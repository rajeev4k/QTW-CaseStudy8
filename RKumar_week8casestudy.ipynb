{
 "cells": [
  {
   "cell_type": "markdown",
   "metadata": {},
   "source": [
    "# QTW Case Study - 8 : Cherry Blossom Race Analysis\n",
    "\n",
    "Author : Rajeev Kumar  \n",
    "Section: MSDS 7333 Quantifying the World - 401"
   ]
  },
  {
   "cell_type": "markdown",
   "metadata": {
    "toc": "true"
   },
   "source": [
    " # Table of Contents\n",
    "<div class=\"toc\" style=\"margin-top: 1em;\"><ul class=\"toc-item\" id=\"toc-level0\"><li><span><a href=\"http://localhost:8888/notebooks/Documents/SMU-Assignment/Capstone/RKumar_week8casestudy.ipynb#QTW-Case-Study---8-:-Cherry-Blossom-Race-Analysis\" data-toc-modified-id=\"QTW-Case-Study---8-:-Cherry-Blossom-Race-Analysis-1\">QTW Case Study - 8 : Cherry Blossom Race Analysis</a></span><ul class=\"toc-item\"><li><span><a href=\"http://localhost:8888/notebooks/Documents/SMU-Assignment/Capstone/RKumar_week8casestudy.ipynb#1.-Abstract\" data-toc-modified-id=\"1.-Abstract-1.1\">1. Abstract</a></span></li><li><span><a href=\"http://localhost:8888/notebooks/Documents/SMU-Assignment/Capstone/RKumar_week8casestudy.ipynb#2.-Introduction\" data-toc-modified-id=\"2.-Introduction-1.2\">2. Introduction</a></span></li><li><span><a href=\"http://localhost:8888/notebooks/Documents/SMU-Assignment/Capstone/RKumar_week8casestudy.ipynb#3.-Method\" data-toc-modified-id=\"3.-Method-1.3\">3. Method</a></span></li><li><span><a href=\"http://localhost:8888/notebooks/Documents/SMU-Assignment/Capstone/RKumar_week8casestudy.ipynb#4.-DataSet-Description\" data-toc-modified-id=\"4.-DataSet-Description-1.4\">4. DataSet Description</a></span></li><li><span><a href=\"http://localhost:8888/notebooks/Documents/SMU-Assignment/Capstone/RKumar_week8casestudy.ipynb#5.-Data-Cleansing-and-Exploratory-Data-Analysis\" data-toc-modified-id=\"5.-Data-Cleansing-and-Exploratory-Data-Analysis-1.5\">5. Data Cleansing and Exploratory Data Analysis</a></span></li><li><span><a href=\"http://localhost:8888/notebooks/Documents/SMU-Assignment/Capstone/RKumar_week8casestudy.ipynb#6.-Conclusion-and-Future-Work\" data-toc-modified-id=\"6.-Conclusion-and-Future-Work-1.6\">6. Conclusion and Future Work</a></span></li><li><span><a href=\"http://localhost:8888/notebooks/Documents/SMU-Assignment/Capstone/RKumar_week8casestudy.ipynb#7.-References\" data-toc-modified-id=\"7.-References-1.7\">7. References</a></span></li></ul></li></ul></div>"
   ]
  },
  {
   "cell_type": "markdown",
   "metadata": {},
   "source": [
    "## 1. Abstract  \n",
    "This case study conducts the web scraping, data extraction, data cleansing, and exploratory data analysis of Cherry Blossom race for women runners between 1999 and 2012. Data Scraping of websites aka Web Scraping has gained prominence in the recent years due to a variety of freely accessible data on public websites. In this case study, the data of women runners of cherry blossom race is extracted from http://www.cherryblossom.org/ website. And, various methods and procedures to cleanse the data are explored and performed. Also, Exploratory Data Analysis (EDA) is used to gain meaningful insights from the data as well as a guiding device to cleanse the data. "
   ]
  },
  {
   "cell_type": "markdown",
   "metadata": {},
   "source": [
    "## 2. Introduction\n",
    "The objective of this case study is to follow the same approach that is developed in the Sections 2.2 and 2.3 of the book <b>\"Data Science in R - A Case Study Approach to Computational Reasoning and Problem Solving\"</b> by Deborah Nolan and Duncan Temple Lang. The data for female runners of Cherry Blossoms Race between 1999 and 2012 are extracted, cleansed, and analyzed.(<b>Q.7</b>)   \n",
    "In Web scrapping, the extraction of the data can become very difficult as the data is not in the fixed or defined format. The data on the Cherry Blossom website (http://www.cherryblossom.org/) is formatted in the tabular format as a fixed width data. However, the format of the data is not consistent across years. And, all these variations in the format are handled programmatically. "
   ]
  },
  {
   "cell_type": "markdown",
   "metadata": {},
   "source": [
    "## 3. Method\n",
    "We have used XML library in R and htmlparse(), getNodeSet(), and xmlValue methods to extract the data from the website and save it to the text files. Also, apply functions such as tapply, mapply, and lapply() functions to compare and analyze the datasets. recover() function is used for browsing active function calls after an error. boxplot() method is used for plotting box plots."
   ]
  },
  {
   "cell_type": "markdown",
   "metadata": {},
   "source": [
    "## 4. DataSet Description"
   ]
  },
  {
   "cell_type": "markdown",
   "metadata": {},
   "source": [
    "<b>The dataset has following fields</b>\n",
    "\n",
    "1. Place:- Position in the race\n",
    "2. Name:- Name of Racer\n",
    "3. Ag:- Age of Racer\n",
    "4. Hometown:- Home Town\n",
    "5. Gun Time:- Total Gun Time\n",
    "6. Net Time:- Total Run Time\n",
    "7. Pace:- Speed\n"
   ]
  },
  {
   "cell_type": "markdown",
   "metadata": {},
   "source": [
    "## 5. Data Cleansing and Exploratory Data Analysis\n"
   ]
  },
  {
   "cell_type": "code",
   "execution_count": 56,
   "metadata": {
    "collapsed": true
   },
   "outputs": [],
   "source": [
    "# Set Working Directory\n",
    "setwd('/Users/rajeevkumar/Downloads')\n",
    "\n",
    "options(nwarnings=20)"
   ]
  },
  {
   "cell_type": "code",
   "execution_count": 57,
   "metadata": {},
   "outputs": [
    {
     "ename": "ERROR",
     "evalue": "Error in scan(file = file, what = what, sep = sep, quote = quote, dec = dec, : line 2 did not have 12 elements\n",
     "output_type": "error",
     "traceback": [
      "Error in scan(file = file, what = what, sep = sep, quote = quote, dec = dec, : line 2 did not have 12 elements\nTraceback:\n",
      "1. read.table(file = \"CaseStudy8/Women_2012.txt\")",
      "2. scan(file = file, what = what, sep = sep, quote = quote, dec = dec, \n .     nmax = nrows, skip = 0, na.strings = na.strings, quiet = TRUE, \n .     fill = fill, strip.white = strip.white, blank.lines.skip = blank.lines.skip, \n .     multi.line = FALSE, comment.char = comment.char, allowEscapes = allowEscapes, \n .     flush = flush, encoding = encoding, skipNul = skipNul)"
     ]
    }
   ],
   "source": [
    "#Read Women data from 2012 Race\n",
    "w2012 = read.table(file=\"CaseStudy8/Women_2012.txt\")"
   ]
  },
  {
   "cell_type": "markdown",
   "metadata": {},
   "source": [
    "Error occurred saying that line 2 didnot have all 12 elements. So ReadLines method was used in place of read.table"
   ]
  },
  {
   "cell_type": "code",
   "execution_count": 58,
   "metadata": {},
   "outputs": [
    {
     "name": "stderr",
     "output_type": "stream",
     "text": [
      "Warning message in readLines(\"CaseStudy8/Women_2012.txt\"):\n",
      "\"incomplete final line found on 'CaseStudy8/Women_2012.txt'\""
     ]
    }
   ],
   "source": [
    "# Read Reacord using readLines Method\n",
    "els = readLines(\"CaseStudy8/Women_2012.txt\")"
   ]
  },
  {
   "cell_type": "markdown",
   "metadata": {},
   "source": [
    "Warning \"Incomplete Final Line \" is ignored as it is due missing new line in the last line of the file."
   ]
  },
  {
   "cell_type": "code",
   "execution_count": 59,
   "metadata": {},
   "outputs": [
    {
     "data": {
      "text/html": [
       "<ol class=list-inline>\n",
       "\t<li><span style=white-space:pre-wrap>'Place Div  /Tot   Num    Name                   Ag Hometown             5 Mile  Time    Pace  S '</span></li>\n",
       "\t<li>'===== =========== ====== ====================== == ==================== ======= ======= ===== = '</li>\n",
       "\t<li><span style=white-space:pre-wrap>'    1     1/2781       2 Jelliah Tinega         26 Kenya                  26:48   54:02  5:25 ! '</span></li>\n",
       "\t<li><span style=white-space:pre-wrap>'    2     2/2781      24 Malika Mejdoub         29 Ethiopia               27:09   54:24  5:27 ! '</span></li>\n",
       "\t<li><span style=white-space:pre-wrap>'    3     1/2228      22 Yihunlish Delelecha    30 Ethiopia               27:09   54:33  5:28 ! '</span></li>\n",
       "\t<li><span style=white-space:pre-wrap>'    4     3/2781      14 Agnieszka Ciolek       26 Poland                 27:30   54:36  5:28 ! '</span></li>\n",
       "\t<li><span style=white-space:pre-wrap>'    5     4/2781       4 Claire Hallissey       29 Arlington VA           27:30   54:37  5:28 ! '</span></li>\n",
       "\t<li><span style=white-space:pre-wrap>'    6     5/2781       6 Stephanie Pezzullo     29 Charlotte NC           27:36   55:16  5:32 ! '</span></li>\n",
       "\t<li><span style=white-space:pre-wrap>'    7     2/2228      12 Kristen Zaitz          32 Boulder CO             27:46   55:24  5:33 ! '</span></li>\n",
       "\t<li><span style=white-space:pre-wrap>'    8     6/2781       8 Emily Harrison         26 Flagstaff AZ           27:38   56:04  5:37 ! '</span></li>\n",
       "</ol>\n"
      ],
      "text/latex": [
       "\\begin{enumerate*}\n",
       "\\item 'Place Div  /Tot   Num    Name                   Ag Hometown             5 Mile  Time    Pace  S '\n",
       "\\item '===== =========== ====== ====================== == ==================== ======= ======= ===== = '\n",
       "\\item '    1     1/2781       2 Jelliah Tinega         26 Kenya                  26:48   54:02  5:25 ! '\n",
       "\\item '    2     2/2781      24 Malika Mejdoub         29 Ethiopia               27:09   54:24  5:27 ! '\n",
       "\\item '    3     1/2228      22 Yihunlish Delelecha    30 Ethiopia               27:09   54:33  5:28 ! '\n",
       "\\item '    4     3/2781      14 Agnieszka Ciolek       26 Poland                 27:30   54:36  5:28 ! '\n",
       "\\item '    5     4/2781       4 Claire Hallissey       29 Arlington VA           27:30   54:37  5:28 ! '\n",
       "\\item '    6     5/2781       6 Stephanie Pezzullo     29 Charlotte NC           27:36   55:16  5:32 ! '\n",
       "\\item '    7     2/2228      12 Kristen Zaitz          32 Boulder CO             27:46   55:24  5:33 ! '\n",
       "\\item '    8     6/2781       8 Emily Harrison         26 Flagstaff AZ           27:38   56:04  5:37 ! '\n",
       "\\end{enumerate*}\n"
      ],
      "text/markdown": [
       "1. <span style=white-space:pre-wrap>'Place Div  /Tot   Num    Name                   Ag Hometown             5 Mile  Time    Pace  S '</span>\n",
       "2. '===== =========== ====== ====================== == ==================== ======= ======= ===== = '\n",
       "3. <span style=white-space:pre-wrap>'    1     1/2781       2 Jelliah Tinega         26 Kenya                  26:48   54:02  5:25 ! '</span>\n",
       "4. <span style=white-space:pre-wrap>'    2     2/2781      24 Malika Mejdoub         29 Ethiopia               27:09   54:24  5:27 ! '</span>\n",
       "5. <span style=white-space:pre-wrap>'    3     1/2228      22 Yihunlish Delelecha    30 Ethiopia               27:09   54:33  5:28 ! '</span>\n",
       "6. <span style=white-space:pre-wrap>'    4     3/2781      14 Agnieszka Ciolek       26 Poland                 27:30   54:36  5:28 ! '</span>\n",
       "7. <span style=white-space:pre-wrap>'    5     4/2781       4 Claire Hallissey       29 Arlington VA           27:30   54:37  5:28 ! '</span>\n",
       "8. <span style=white-space:pre-wrap>'    6     5/2781       6 Stephanie Pezzullo     29 Charlotte NC           27:36   55:16  5:32 ! '</span>\n",
       "9. <span style=white-space:pre-wrap>'    7     2/2228      12 Kristen Zaitz          32 Boulder CO             27:46   55:24  5:33 ! '</span>\n",
       "10. <span style=white-space:pre-wrap>'    8     6/2781       8 Emily Harrison         26 Flagstaff AZ           27:38   56:04  5:37 ! '</span>\n",
       "\n",
       "\n"
      ],
      "text/plain": [
       " [1] \"Place Div  /Tot   Num    Name                   Ag Hometown             5 Mile  Time    Pace  S \"\n",
       " [2] \"===== =========== ====== ====================== == ==================== ======= ======= ===== = \"\n",
       " [3] \"    1     1/2781       2 Jelliah Tinega         26 Kenya                  26:48   54:02  5:25 ! \"\n",
       " [4] \"    2     2/2781      24 Malika Mejdoub         29 Ethiopia               27:09   54:24  5:27 ! \"\n",
       " [5] \"    3     1/2228      22 Yihunlish Delelecha    30 Ethiopia               27:09   54:33  5:28 ! \"\n",
       " [6] \"    4     3/2781      14 Agnieszka Ciolek       26 Poland                 27:30   54:36  5:28 ! \"\n",
       " [7] \"    5     4/2781       4 Claire Hallissey       29 Arlington VA           27:30   54:37  5:28 ! \"\n",
       " [8] \"    6     5/2781       6 Stephanie Pezzullo     29 Charlotte NC           27:36   55:16  5:32 ! \"\n",
       " [9] \"    7     2/2228      12 Kristen Zaitz          32 Boulder CO             27:46   55:24  5:33 ! \"\n",
       "[10] \"    8     6/2781       8 Emily Harrison         26 Flagstaff AZ           27:38   56:04  5:37 ! \""
      ]
     },
     "metadata": {},
     "output_type": "display_data"
    }
   ],
   "source": [
    "#First 10 Rows of the dataset\n",
    "els[1:10]"
   ]
  },
  {
   "cell_type": "code",
   "execution_count": 60,
   "metadata": {},
   "outputs": [
    {
     "data": {
      "text/html": [
       "9732"
      ],
      "text/latex": [
       "9732"
      ],
      "text/markdown": [
       "9732"
      ],
      "text/plain": [
       "[1] 9732"
      ]
     },
     "metadata": {},
     "output_type": "display_data"
    }
   ],
   "source": [
    "#Total # rows in the dataset is 9732\n",
    "length(els)"
   ]
  },
  {
   "cell_type": "code",
   "execution_count": 61,
   "metadata": {},
   "outputs": [
    {
     "data": {
      "text/html": [
       "<ol class=list-inline>\n",
       "\t<li><span style=white-space:pre-wrap>' 9729   974/974    17855 Denise Bobba           40 Herndon VA           1:15:18 2:36:54 15:42   '</span></li>\n",
       "\t<li><span style=white-space:pre-wrap>' 9730  1366/1366   24256 Rashonna Waples        38 District Heights MD  1:28:38 2:50:58 17:06 '</span></li>\n",
       "</ol>\n"
      ],
      "text/latex": [
       "\\begin{enumerate*}\n",
       "\\item ' 9729   974/974    17855 Denise Bobba           40 Herndon VA           1:15:18 2:36:54 15:42   '\n",
       "\\item ' 9730  1366/1366   24256 Rashonna Waples        38 District Heights MD  1:28:38 2:50:58 17:06 '\n",
       "\\end{enumerate*}\n"
      ],
      "text/markdown": [
       "1. <span style=white-space:pre-wrap>' 9729   974/974    17855 Denise Bobba           40 Herndon VA           1:15:18 2:36:54 15:42   '</span>\n",
       "2. <span style=white-space:pre-wrap>' 9730  1366/1366   24256 Rashonna Waples        38 District Heights MD  1:28:38 2:50:58 17:06 '</span>\n",
       "\n",
       "\n"
      ],
      "text/plain": [
       "[1] \" 9729   974/974    17855 Denise Bobba           40 Herndon VA           1:15:18 2:36:54 15:42   \"\n",
       "[2] \" 9730  1366/1366   24256 Rashonna Waples        38 District Heights MD  1:28:38 2:50:58 17:06 \"  "
      ]
     },
     "metadata": {},
     "output_type": "display_data"
    }
   ],
   "source": [
    "#Last 2 lines from the dataset shows that record was read properly\n",
    "els[9731:9732]"
   ]
  },
  {
   "cell_type": "code",
   "execution_count": 62,
   "metadata": {},
   "outputs": [
    {
     "data": {
      "text/html": [
       "2"
      ],
      "text/latex": [
       "2"
      ],
      "text/markdown": [
       "2"
      ],
      "text/plain": [
       "[1] 2"
      ]
     },
     "metadata": {},
     "output_type": "display_data"
    }
   ],
   "source": [
    "# Find the position of 3 '=' using grep (Spacer Row).\n",
    "eqIndex = grep(\"^===\", els)\n",
    "eqIndex"
   ]
  },
  {
   "cell_type": "markdown",
   "metadata": {},
   "source": [
    "There is no other line except the top where line starts with '==='"
   ]
  },
  {
   "cell_type": "code",
   "execution_count": 63,
   "metadata": {},
   "outputs": [
    {
     "data": {
      "text/html": [
       "2"
      ],
      "text/latex": [
       "2"
      ],
      "text/markdown": [
       "2"
      ],
      "text/plain": [
       "[1] 2"
      ]
     },
     "metadata": {},
     "output_type": "display_data"
    }
   ],
   "source": [
    "# Position of 3 '=' in the first 3 lines\n",
    "first3 = substr(els, 1, 3)\n",
    "which(first3 == \"===\")"
   ]
  },
  {
   "cell_type": "code",
   "execution_count": 64,
   "metadata": {
    "collapsed": true
   },
   "outputs": [],
   "source": [
    "# Spacer Row , Header Row , Data Body Extraction\n",
    "spacerRow = els[eqIndex]\n",
    "headerRow = els[eqIndex - 1]\n",
    "body = els[ -(1:eqIndex) ]"
   ]
  },
  {
   "cell_type": "code",
   "execution_count": 65,
   "metadata": {
    "collapsed": true
   },
   "outputs": [],
   "source": [
    "# Lowercase Header Columns\n",
    "headerRow = tolower(headerRow)"
   ]
  },
  {
   "cell_type": "code",
   "execution_count": 66,
   "metadata": {},
   "outputs": [
    {
     "data": {
      "text/html": [
       "49"
      ],
      "text/latex": [
       "49"
      ],
      "text/markdown": [
       "49"
      ],
      "text/plain": [
       "[1] 49\n",
       "attr(,\"match.length\")\n",
       "[1] 2\n",
       "attr(,\"useBytes\")\n",
       "[1] TRUE"
      ]
     },
     "metadata": {},
     "output_type": "display_data"
    }
   ],
   "source": [
    "#Position of \"ag\" columns in a header Row\n",
    "ageStart = regexpr(\"ag\", headerRow)\n",
    "ageStart"
   ]
  },
  {
   "cell_type": "code",
   "execution_count": 67,
   "metadata": {},
   "outputs": [
    {
     "data": {
      "text/html": [
       "<ol class=list-inline>\n",
       "\t<li>'26'</li>\n",
       "\t<li>'29'</li>\n",
       "\t<li>'30'</li>\n",
       "\t<li>'26'</li>\n",
       "\t<li>'29'</li>\n",
       "\t<li>'29'</li>\n",
       "</ol>\n"
      ],
      "text/latex": [
       "\\begin{enumerate*}\n",
       "\\item '26'\n",
       "\\item '29'\n",
       "\\item '30'\n",
       "\\item '26'\n",
       "\\item '29'\n",
       "\\item '29'\n",
       "\\end{enumerate*}\n"
      ],
      "text/markdown": [
       "1. '26'\n",
       "2. '29'\n",
       "3. '30'\n",
       "4. '26'\n",
       "5. '29'\n",
       "6. '29'\n",
       "\n",
       "\n"
      ],
      "text/plain": [
       "[1] \"26\" \"29\" \"30\" \"26\" \"29\" \"29\""
      ]
     },
     "metadata": {},
     "output_type": "display_data"
    },
    {
     "data": {
      "text/plain": [
       "   Min. 1st Qu.  Median    Mean 3rd Qu.    Max. \n",
       "  12.00   27.00   32.00   33.88   39.00   75.00 "
      ]
     },
     "metadata": {},
     "output_type": "display_data"
    }
   ],
   "source": [
    "#Summary Statistics of Age\n",
    "age = substr(body, start = ageStart, stop = ageStart + 1)\n",
    "head(age)\n",
    "summary(as.numeric(age))"
   ]
  },
  {
   "cell_type": "markdown",
   "metadata": {},
   "source": [
    "Minimum age of women runner was 12 years and Maximum age was 75 years. Average age was 33.88 years."
   ]
  },
  {
   "cell_type": "code",
   "execution_count": 68,
   "metadata": {},
   "outputs": [
    {
     "data": {
      "text/html": [
       "<ol>\n",
       "\t<li><ol class=list-inline>\n",
       "\t<li>6</li>\n",
       "\t<li>18</li>\n",
       "\t<li>25</li>\n",
       "\t<li>48</li>\n",
       "\t<li>51</li>\n",
       "\t<li>72</li>\n",
       "\t<li>80</li>\n",
       "\t<li>88</li>\n",
       "\t<li>94</li>\n",
       "\t<li>96</li>\n",
       "</ol>\n",
       "</li>\n",
       "</ol>\n"
      ],
      "text/latex": [
       "\\begin{enumerate}\n",
       "\\item \\begin{enumerate*}\n",
       "\\item 6\n",
       "\\item 18\n",
       "\\item 25\n",
       "\\item 48\n",
       "\\item 51\n",
       "\\item 72\n",
       "\\item 80\n",
       "\\item 88\n",
       "\\item 94\n",
       "\\item 96\n",
       "\\end{enumerate*}\n",
       "\n",
       "\\end{enumerate}\n"
      ],
      "text/markdown": [
       "1. 1. 6\n",
       "2. 18\n",
       "3. 25\n",
       "4. 48\n",
       "5. 51\n",
       "6. 72\n",
       "7. 80\n",
       "8. 88\n",
       "9. 94\n",
       "10. 96\n",
       "\n",
       "\n",
       "\n",
       "\n",
       "\n"
      ],
      "text/plain": [
       "[[1]]\n",
       " [1]  6 18 25 48 51 72 80 88 94 96\n",
       "attr(,\"match.length\")\n",
       " [1] 1 1 1 1 1 1 1 1 1 1\n",
       "attr(,\"useBytes\")\n",
       "[1] TRUE\n"
      ]
     },
     "metadata": {},
     "output_type": "display_data"
    }
   ],
   "source": [
    "#Position of Blanks in Spacer Row and this will be used to extract values from the body dataset.\n",
    "blankLocs = gregexpr(\" \", spacerRow)\n",
    "blankLocs"
   ]
  },
  {
   "cell_type": "code",
   "execution_count": 69,
   "metadata": {},
   "outputs": [
    {
     "data": {
      "text/html": [
       "<ol class=list-inline>\n",
       "\t<li>0</li>\n",
       "\t<li>6</li>\n",
       "\t<li>18</li>\n",
       "\t<li>25</li>\n",
       "\t<li>48</li>\n",
       "\t<li>51</li>\n",
       "\t<li>72</li>\n",
       "\t<li>80</li>\n",
       "\t<li>88</li>\n",
       "\t<li>94</li>\n",
       "\t<li>96</li>\n",
       "</ol>\n"
      ],
      "text/latex": [
       "\\begin{enumerate*}\n",
       "\\item 0\n",
       "\\item 6\n",
       "\\item 18\n",
       "\\item 25\n",
       "\\item 48\n",
       "\\item 51\n",
       "\\item 72\n",
       "\\item 80\n",
       "\\item 88\n",
       "\\item 94\n",
       "\\item 96\n",
       "\\end{enumerate*}\n"
      ],
      "text/markdown": [
       "1. 0\n",
       "2. 6\n",
       "3. 18\n",
       "4. 25\n",
       "5. 48\n",
       "6. 51\n",
       "7. 72\n",
       "8. 80\n",
       "9. 88\n",
       "10. 94\n",
       "11. 96\n",
       "\n",
       "\n"
      ],
      "text/plain": [
       " [1]  0  6 18 25 48 51 72 80 88 94 96"
      ]
     },
     "metadata": {},
     "output_type": "display_data"
    }
   ],
   "source": [
    "#Listing positions of all Blanks including position 0 \n",
    "searchLocs = c(0, blankLocs[[1]])\n",
    "searchLocs"
   ]
  },
  {
   "cell_type": "code",
   "execution_count": 70,
   "metadata": {
    "collapsed": true
   },
   "outputs": [],
   "source": [
    "# Extracting actual data from \"body\" using the position of blank space determined in the previous steps\n",
    "Values = mapply(substr, list(body),\n",
    "                start = searchLocs[ -length(searchLocs)] + 1,\n",
    "                stop = searchLocs[ -1 ] - 1)"
   ]
  },
  {
   "cell_type": "code",
   "execution_count": 71,
   "metadata": {},
   "outputs": [
    {
     "data": {
      "text/html": [
       "'matrix'"
      ],
      "text/latex": [
       "'matrix'"
      ],
      "text/markdown": [
       "'matrix'"
      ],
      "text/plain": [
       "[1] \"matrix\""
      ]
     },
     "metadata": {},
     "output_type": "display_data"
    }
   ],
   "source": [
    "# Values is of type Matrix (of characters )\n",
    "class(Values)"
   ]
  },
  {
   "cell_type": "code",
   "execution_count": 72,
   "metadata": {},
   "outputs": [
    {
     "data": {
      "text/html": [
       "<table>\n",
       "<tbody>\n",
       "\t<tr><td>    1                 </td><td>    1/2781            </td><td>     2                </td><td>Jelliah Tinega        </td><td>26                    </td><td>Kenya                 </td><td>  26:48               </td><td>  54:02               </td><td> 5:25                 </td><td>!                     </td></tr>\n",
       "\t<tr><td>    2                 </td><td>    2/2781            </td><td>    24                </td><td>Malika Mejdoub        </td><td>29                    </td><td>Ethiopia              </td><td>  27:09               </td><td>  54:24               </td><td> 5:27                 </td><td>!                     </td></tr>\n",
       "\t<tr><td>    3                 </td><td>    1/2228            </td><td>    22                </td><td>Yihunlish Delelecha   </td><td>30                    </td><td>Ethiopia              </td><td>  27:09               </td><td>  54:33               </td><td> 5:28                 </td><td>!                     </td></tr>\n",
       "\t<tr><td>    4                 </td><td>    3/2781            </td><td>    14                </td><td>Agnieszka Ciolek      </td><td>26                    </td><td>Poland                </td><td>  27:30               </td><td>  54:36               </td><td> 5:28                 </td><td>!                     </td></tr>\n",
       "\t<tr><td>    5                 </td><td>    4/2781            </td><td>     4                </td><td>Claire Hallissey      </td><td>29                    </td><td>Arlington VA          </td><td>  27:30               </td><td>  54:37               </td><td> 5:28                 </td><td>!                     </td></tr>\n",
       "\t<tr><td>    6                 </td><td>    5/2781            </td><td>     6                </td><td>Stephanie Pezzullo    </td><td>29                    </td><td>Charlotte NC          </td><td>  27:36               </td><td>  55:16               </td><td> 5:32                 </td><td>!                     </td></tr>\n",
       "</tbody>\n",
       "</table>\n"
      ],
      "text/latex": [
       "\\begin{tabular}{llllllllll}\n",
       "\t     1                  &     1/2781             &      2                 & Jelliah Tinega         & 26                     & Kenya                  &   26:48                &   54:02                &  5:25                  & !                     \\\\\n",
       "\t     2                  &     2/2781             &     24                 & Malika Mejdoub         & 29                     & Ethiopia               &   27:09                &   54:24                &  5:27                  & !                     \\\\\n",
       "\t     3                  &     1/2228             &     22                 & Yihunlish Delelecha    & 30                     & Ethiopia               &   27:09                &   54:33                &  5:28                  & !                     \\\\\n",
       "\t     4                  &     3/2781             &     14                 & Agnieszka Ciolek       & 26                     & Poland                 &   27:30                &   54:36                &  5:28                  & !                     \\\\\n",
       "\t     5                  &     4/2781             &      4                 & Claire Hallissey       & 29                     & Arlington VA           &   27:30                &   54:37                &  5:28                  & !                     \\\\\n",
       "\t     6                  &     5/2781             &      6                 & Stephanie Pezzullo     & 29                     & Charlotte NC           &   27:36                &   55:16                &  5:32                  & !                     \\\\\n",
       "\\end{tabular}\n"
      ],
      "text/markdown": [
       "\n",
       "|     1                  |     1/2781             |      2                 | Jelliah Tinega         | 26                     | Kenya                  |   26:48                |   54:02                |  5:25                  | !                      | \n",
       "|     2                  |     2/2781             |     24                 | Malika Mejdoub         | 29                     | Ethiopia               |   27:09                |   54:24                |  5:27                  | !                      | \n",
       "|     3                  |     1/2228             |     22                 | Yihunlish Delelecha    | 30                     | Ethiopia               |   27:09                |   54:33                |  5:28                  | !                      | \n",
       "|     4                  |     3/2781             |     14                 | Agnieszka Ciolek       | 26                     | Poland                 |   27:30                |   54:36                |  5:28                  | !                      | \n",
       "|     5                  |     4/2781             |      4                 | Claire Hallissey       | 29                     | Arlington VA           |   27:30                |   54:37                |  5:28                  | !                      | \n",
       "|     6                  |     5/2781             |      6                 | Stephanie Pezzullo     | 29                     | Charlotte NC           |   27:36                |   55:16                |  5:32                  | !                      | \n",
       "\n",
       "\n"
      ],
      "text/plain": [
       "     [,1]  [,2]        [,3]   [,4]                   [,5] [,6]                \n",
       "[1,]     1     1/2781       2 Jelliah Tinega         26   Kenya               \n",
       "[2,]     2     2/2781      24 Malika Mejdoub         29   Ethiopia            \n",
       "[3,]     3     1/2228      22 Yihunlish Delelecha    30   Ethiopia            \n",
       "[4,]     4     3/2781      14 Agnieszka Ciolek       26   Poland              \n",
       "[5,]     5     4/2781       4 Claire Hallissey       29   Arlington VA        \n",
       "[6,]     6     5/2781       6 Stephanie Pezzullo     29   Charlotte NC        \n",
       "     [,7]    [,8]    [,9]  [,10]\n",
       "[1,]   26:48   54:02  5:25 !    \n",
       "[2,]   27:09   54:24  5:27 !    \n",
       "[3,]   27:09   54:33  5:28 !    \n",
       "[4,]   27:30   54:36  5:28 !    \n",
       "[5,]   27:30   54:37  5:28 !    \n",
       "[6,]   27:36   55:16  5:32 !    "
      ]
     },
     "metadata": {},
     "output_type": "display_data"
    }
   ],
   "source": [
    "# Top 6 rows of Values Matrix\n",
    "head(Values)"
   ]
  },
  {
   "cell_type": "code",
   "execution_count": 73,
   "metadata": {
    "collapsed": true
   },
   "outputs": [],
   "source": [
    "# Define Function findColLocs with spacerRow as an argument that lists column positions based on space \n",
    "# delimiter\n",
    "findColLocs = function(spacerRow) {\n",
    "  spaceLocs = gregexpr(\" \", spacerRow)[[1]]\n",
    "  rowLength = nchar(spacerRow)\n",
    "  if (substring(spacerRow, rowLength, rowLength) != \" \")\n",
    "    return( c(0, spaceLocs, rowLength + 1))\n",
    "  else return(c(0, spaceLocs))\n",
    "}"
   ]
  },
  {
   "cell_type": "code",
   "execution_count": 74,
   "metadata": {
    "collapsed": true
   },
   "outputs": [],
   "source": [
    "# Define selectCols Function that determines starting position and end position of column that has been passed.\n",
    "selectCols =\n",
    "  function(colNames, headerRow, searchLocs)\n",
    "  {\n",
    "    sapply(colNames,\n",
    "           function(name, headerRow, searchLocs)\n",
    "           {\n",
    "             startPos = regexpr(name, headerRow)[[1]]\n",
    "             if (startPos == -1)\n",
    "               return( c(NA, NA) )\n",
    "             \n",
    "             index = sum(startPos >= searchLocs)\n",
    "             c(searchLocs[index] + 1, searchLocs[index + 1] - 1)\n",
    "           },\n",
    "           headerRow = headerRow, searchLocs = searchLocs )\n",
    "  }"
   ]
  },
  {
   "cell_type": "code",
   "execution_count": 75,
   "metadata": {},
   "outputs": [
    {
     "data": {
      "text/plain": [
       "   Min. 1st Qu.  Median    Mean 3rd Qu.    Max. \n",
       "  12.00   27.00   32.00   33.88   39.00   75.00 "
      ]
     },
     "metadata": {},
     "output_type": "display_data"
    }
   ],
   "source": [
    "# Find columns poistions from spacer row\n",
    "searchLocs = findColLocs(spacerRow)\n",
    "\n",
    "# Find the starting and end position of \"ag\" columns\n",
    "ageLoc = selectCols(\"ag\", headerRow, searchLocs)\n",
    "\n",
    "# Extract Ages from the body\n",
    "ages = mapply(substr, list(body),\n",
    "              start = ageLoc[1,], stop = ageLoc[2, ])\n",
    "\n",
    "#Summary Statistics of ages.\n",
    "summary(as.numeric(ages))"
   ]
  },
  {
   "cell_type": "code",
   "execution_count": 76,
   "metadata": {},
   "outputs": [
    {
     "data": {
      "text/html": [
       "<ol class=list-inline>\n",
       "\t<li>0</li>\n",
       "\t<li>6</li>\n",
       "\t<li>18</li>\n",
       "\t<li>25</li>\n",
       "\t<li>48</li>\n",
       "\t<li>51</li>\n",
       "\t<li>72</li>\n",
       "\t<li>80</li>\n",
       "\t<li>88</li>\n",
       "\t<li>94</li>\n",
       "\t<li>96</li>\n",
       "</ol>\n"
      ],
      "text/latex": [
       "\\begin{enumerate*}\n",
       "\\item 0\n",
       "\\item 6\n",
       "\\item 18\n",
       "\\item 25\n",
       "\\item 48\n",
       "\\item 51\n",
       "\\item 72\n",
       "\\item 80\n",
       "\\item 88\n",
       "\\item 94\n",
       "\\item 96\n",
       "\\end{enumerate*}\n"
      ],
      "text/markdown": [
       "1. 0\n",
       "2. 6\n",
       "3. 18\n",
       "4. 25\n",
       "5. 48\n",
       "6. 51\n",
       "7. 72\n",
       "8. 80\n",
       "9. 88\n",
       "10. 94\n",
       "11. 96\n",
       "\n",
       "\n"
      ],
      "text/plain": [
       " [1]  0  6 18 25 48 51 72 80 88 94 96"
      ]
     },
     "metadata": {},
     "output_type": "display_data"
    }
   ],
   "source": [
    "# Position of column values\n",
    "findColLocs(spacerRow)"
   ]
  },
  {
   "cell_type": "code",
   "execution_count": 77,
   "metadata": {
    "collapsed": true
   },
   "outputs": [],
   "source": [
    "# Array of Column Names to extract the values for \n",
    "shortColNames = c(\"name\", \"home\", \"ag\", \"gun\", \"net\", \"time\")\n"
   ]
  },
  {
   "cell_type": "code",
   "execution_count": 78,
   "metadata": {
    "collapsed": true
   },
   "outputs": [],
   "source": [
    "#Extract name, home, ag, gun, net and time from the dataset\n",
    "locCols = selectCols(shortColNames, headerRow, searchLocs)\n",
    "Values = mapply(substr, list(body), start = locCols[1, ],\n",
    "                stop = locCols[2, ])"
   ]
  },
  {
   "cell_type": "code",
   "execution_count": 79,
   "metadata": {},
   "outputs": [
    {
     "data": {
      "text/html": [
       "'matrix'"
      ],
      "text/latex": [
       "'matrix'"
      ],
      "text/markdown": [
       "'matrix'"
      ],
      "text/plain": [
       "[1] \"matrix\""
      ]
     },
     "metadata": {},
     "output_type": "display_data"
    }
   ],
   "source": [
    "#Class of Values are Matrix of characters.\n",
    "class(Values)"
   ]
  },
  {
   "cell_type": "code",
   "execution_count": 80,
   "metadata": {},
   "outputs": [
    {
     "data": {
      "text/html": [
       "<table>\n",
       "<thead><tr><th scope=col>name</th><th scope=col>home</th><th scope=col>ag</th><th scope=col>gun</th><th scope=col>net</th><th scope=col>time</th></tr></thead>\n",
       "<tbody>\n",
       "\t<tr><td>Jelliah Tinega        </td><td>Kenya                 </td><td>26                    </td><td>NA                    </td><td>NA                    </td><td>  54:02               </td></tr>\n",
       "\t<tr><td>Malika Mejdoub        </td><td>Ethiopia              </td><td>29                    </td><td>NA                    </td><td>NA                    </td><td>  54:24               </td></tr>\n",
       "\t<tr><td>Yihunlish Delelecha   </td><td>Ethiopia              </td><td>30                    </td><td>NA                    </td><td>NA                    </td><td>  54:33               </td></tr>\n",
       "\t<tr><td>Agnieszka Ciolek      </td><td>Poland                </td><td>26                    </td><td>NA                    </td><td>NA                    </td><td>  54:36               </td></tr>\n",
       "\t<tr><td>Claire Hallissey      </td><td>Arlington VA          </td><td>29                    </td><td>NA                    </td><td>NA                    </td><td>  54:37               </td></tr>\n",
       "\t<tr><td>Stephanie Pezzullo    </td><td>Charlotte NC          </td><td>29                    </td><td>NA                    </td><td>NA                    </td><td>  55:16               </td></tr>\n",
       "</tbody>\n",
       "</table>\n"
      ],
      "text/latex": [
       "\\begin{tabular}{llllll}\n",
       " name & home & ag & gun & net & time\\\\\n",
       "\\hline\n",
       "\t Jelliah Tinega         & Kenya                  & 26                     & NA                     & NA                     &   54:02               \\\\\n",
       "\t Malika Mejdoub         & Ethiopia               & 29                     & NA                     & NA                     &   54:24               \\\\\n",
       "\t Yihunlish Delelecha    & Ethiopia               & 30                     & NA                     & NA                     &   54:33               \\\\\n",
       "\t Agnieszka Ciolek       & Poland                 & 26                     & NA                     & NA                     &   54:36               \\\\\n",
       "\t Claire Hallissey       & Arlington VA           & 29                     & NA                     & NA                     &   54:37               \\\\\n",
       "\t Stephanie Pezzullo     & Charlotte NC           & 29                     & NA                     & NA                     &   55:16               \\\\\n",
       "\\end{tabular}\n"
      ],
      "text/markdown": [
       "\n",
       "name | home | ag | gun | net | time | \n",
       "|---|---|---|---|---|---|\n",
       "| Jelliah Tinega         | Kenya                  | 26                     | NA                     | NA                     |   54:02                | \n",
       "| Malika Mejdoub         | Ethiopia               | 29                     | NA                     | NA                     |   54:24                | \n",
       "| Yihunlish Delelecha    | Ethiopia               | 30                     | NA                     | NA                     |   54:33                | \n",
       "| Agnieszka Ciolek       | Poland                 | 26                     | NA                     | NA                     |   54:36                | \n",
       "| Claire Hallissey       | Arlington VA           | 29                     | NA                     | NA                     |   54:37                | \n",
       "| Stephanie Pezzullo     | Charlotte NC           | 29                     | NA                     | NA                     |   55:16                | \n",
       "\n",
       "\n"
      ],
      "text/plain": [
       "     name                   home                 ag gun net time   \n",
       "[1,] Jelliah Tinega         Kenya                26 NA  NA    54:02\n",
       "[2,] Malika Mejdoub         Ethiopia             29 NA  NA    54:24\n",
       "[3,] Yihunlish Delelecha    Ethiopia             30 NA  NA    54:33\n",
       "[4,] Agnieszka Ciolek       Poland               26 NA  NA    54:36\n",
       "[5,] Claire Hallissey       Arlington VA         29 NA  NA    54:37\n",
       "[6,] Stephanie Pezzullo     Charlotte NC         29 NA  NA    55:16"
      ]
     },
     "metadata": {},
     "output_type": "display_data"
    }
   ],
   "source": [
    "#Assign Column Names to matrix\n",
    "colnames(Values) = shortColNames\n",
    "\n",
    "# Display content of Values\n",
    "head(Values)"
   ]
  },
  {
   "cell_type": "code",
   "execution_count": 81,
   "metadata": {},
   "outputs": [
    {
     "data": {
      "text/html": [
       "<table>\n",
       "<thead><tr><th></th><th scope=col>name</th><th scope=col>home</th><th scope=col>ag</th></tr></thead>\n",
       "<tbody>\n",
       "\t<tr><th scope=row>[9725,]</th><td>Effie Harary          </td><td>Long Branch NJ        </td><td>39                    </td></tr>\n",
       "\t<tr><th scope=row>[9726,]</th><td>Khristina Nava        </td><td>Fort Meade MD         </td><td>40                    </td></tr>\n",
       "\t<tr><th scope=row>[9727,]</th><td>Geneva Dixon          </td><td>Manassas Park VA      </td><td>31                    </td></tr>\n",
       "\t<tr><th scope=row>[9728,]</th><td>Veronica Eligan       </td><td>Mitchellville MD      </td><td>55                    </td></tr>\n",
       "\t<tr><th scope=row>[9729,]</th><td>Denise Bobba          </td><td>Herndon VA            </td><td>40                    </td></tr>\n",
       "\t<tr><th scope=row>[9730,]</th><td>Rashonna Waples       </td><td>District Heights MD   </td><td>38                    </td></tr>\n",
       "</tbody>\n",
       "</table>\n"
      ],
      "text/latex": [
       "\\begin{tabular}{r|lll}\n",
       "  & name & home & ag\\\\\n",
       "\\hline\n",
       "\t{[}9725,{]} & Effie Harary           & Long Branch NJ         & 39                    \\\\\n",
       "\t{[}9726,{]} & Khristina Nava         & Fort Meade MD          & 40                    \\\\\n",
       "\t{[}9727,{]} & Geneva Dixon           & Manassas Park VA       & 31                    \\\\\n",
       "\t{[}9728,{]} & Veronica Eligan        & Mitchellville MD       & 55                    \\\\\n",
       "\t{[}9729,{]} & Denise Bobba           & Herndon VA             & 40                    \\\\\n",
       "\t{[}9730,{]} & Rashonna Waples        & District Heights MD    & 38                    \\\\\n",
       "\\end{tabular}\n"
      ],
      "text/markdown": [
       "\n",
       "| <!--/--> | name | home | ag | \n",
       "|---|---|---|---|---|---|\n",
       "| [9725,] | Effie Harary           | Long Branch NJ         | 39                     | \n",
       "| [9726,] | Khristina Nava         | Fort Meade MD          | 40                     | \n",
       "| [9727,] | Geneva Dixon           | Manassas Park VA       | 31                     | \n",
       "| [9728,] | Veronica Eligan        | Mitchellville MD       | 55                     | \n",
       "| [9729,] | Denise Bobba           | Herndon VA             | 40                     | \n",
       "| [9730,] | Rashonna Waples        | District Heights MD    | 38                     | \n",
       "\n",
       "\n"
      ],
      "text/plain": [
       "        name                   home                 ag\n",
       "[9725,] Effie Harary           Long Branch NJ       39\n",
       "[9726,] Khristina Nava         Fort Meade MD        40\n",
       "[9727,] Geneva Dixon           Manassas Park VA     31\n",
       "[9728,] Veronica Eligan        Mitchellville MD     55\n",
       "[9729,] Denise Bobba           Herndon VA           40\n",
       "[9730,] Rashonna Waples        District Heights MD  38"
      ]
     },
     "metadata": {},
     "output_type": "display_data"
    }
   ],
   "source": [
    "# Display last 3 rows. It looks that it extracted the data properly.\n",
    "tail(Values)[ , 1:3]"
   ]
  },
  {
   "cell_type": "code",
   "execution_count": 82,
   "metadata": {
    "collapsed": true
   },
   "outputs": [],
   "source": [
    "# Define extractVariables Function that encapsulates all the methods of extraction that have been done so far.\n",
    "extractVariables = \n",
    "  function(file, varNames =c(\"name\", \"home\", \"ag\", \"gun\",\n",
    "                             \"net\", \"time\"))\n",
    "{\n",
    "       # Find the index of the row with ===\n",
    "  eqIndex = grep(\"^===\", file)\n",
    "       # Extract the two key rows and the data\n",
    "  spacerRow = file[eqIndex] \n",
    "  headerRow = tolower(file[ eqIndex - 1 ])\n",
    "  body = file[ -(1 : eqIndex) ]\n",
    "       \n",
    "       # Obtain the starting and ending positions of variables\n",
    "  searchLocs = findColLocs(spacerRow)\n",
    "  locCols = selectCols(varNames, headerRow, searchLocs)\n",
    "\n",
    "  Values = mapply(substr, list(body), start = locCols[1, ], \n",
    "                  stop = locCols[2, ])\n",
    "  colnames(Values) = varNames\n",
    "  \n",
    "  invisible(Values)\n",
    "}"
   ]
  },
  {
   "cell_type": "code",
   "execution_count": 83,
   "metadata": {},
   "outputs": [
    {
     "name": "stderr",
     "output_type": "stream",
     "text": [
      "Warning message in FUN(X[[i]], ...):\n",
      "\"incomplete final line found on 'CaseStudy8/Women_1999.txt'\"Warning message in FUN(X[[i]], ...):\n",
      "\"incomplete final line found on 'CaseStudy8/Women_2000.txt'\"Warning message in FUN(X[[i]], ...):\n",
      "\"incomplete final line found on 'CaseStudy8/Women_2001.txt'\"Warning message in FUN(X[[i]], ...):\n",
      "\"incomplete final line found on 'CaseStudy8/Women_2002.txt'\"Warning message in FUN(X[[i]], ...):\n",
      "\"incomplete final line found on 'CaseStudy8/Women_2003.txt'\"Warning message in FUN(X[[i]], ...):\n",
      "\"incomplete final line found on 'CaseStudy8/Women_2004.txt'\"Warning message in FUN(X[[i]], ...):\n",
      "\"incomplete final line found on 'CaseStudy8/Women_2005.txt'\"Warning message in FUN(X[[i]], ...):\n",
      "\"incomplete final line found on 'CaseStudy8/Women_2006.txt'\"Warning message in FUN(X[[i]], ...):\n",
      "\"incomplete final line found on 'CaseStudy8/Women_2007.txt'\"Warning message in FUN(X[[i]], ...):\n",
      "\"incomplete final line found on 'CaseStudy8/Women_2008.txt'\"Warning message in FUN(X[[i]], ...):\n",
      "\"incomplete final line found on 'CaseStudy8/Women_2009.txt'\"Warning message in FUN(X[[i]], ...):\n",
      "\"incomplete final line found on 'CaseStudy8/Women_2010.txt'\"Warning message in FUN(X[[i]], ...):\n",
      "\"incomplete final line found on 'CaseStudy8/Women_2011.txt'\"Warning message in FUN(X[[i]], ...):\n",
      "\"incomplete final line found on 'CaseStudy8/Women_2012.txt'\""
     ]
    }
   ],
   "source": [
    "#List of All Women Racer Files\n",
    "wfilenames = paste(\"CaseStudy8/\",\"Women_\", 1999:2012, \".txt\", sep = \"\")\n",
    "\n",
    "#Read the data from each File\n",
    "womenFiles = lapply(wfilenames, readLines)\n",
    "\n",
    "# Assign names to each list\n",
    "names(womenFiles) = 1999:2012"
   ]
  },
  {
   "cell_type": "markdown",
   "metadata": {},
   "source": [
    "We can ignore incomplete fine line error as this has happened due to missing new line character at the end of the file."
   ]
  },
  {
   "cell_type": "code",
   "execution_count": 84,
   "metadata": {},
   "outputs": [
    {
     "data": {
      "text/html": [
       "14"
      ],
      "text/latex": [
       "14"
      ],
      "text/markdown": [
       "14"
      ],
      "text/plain": [
       "[1] 14"
      ]
     },
     "metadata": {},
     "output_type": "display_data"
    }
   ],
   "source": [
    "#options(error = recover)\n",
    "# Extract the data from each year of women files\n",
    "womenResMat = lapply(womenFiles, extractVariables)\n",
    "\n",
    "#Length of Matrix\n",
    "length(womenResMat)"
   ]
  },
  {
   "cell_type": "markdown",
   "metadata": {},
   "source": [
    "Error \"invalid multibyte string\" occured due to special character in the data."
   ]
  },
  {
   "cell_type": "code",
   "execution_count": 85,
   "metadata": {},
   "outputs": [
    {
     "data": {
      "text/html": [
       "'C/C/C/C/C/en_US.UTF-8'"
      ],
      "text/latex": [
       "'C/C/C/C/C/en\\_US.UTF-8'"
      ],
      "text/markdown": [
       "'C/C/C/C/C/en_US.UTF-8'"
      ],
      "text/plain": [
       "[1] \"C/C/C/C/C/en_US.UTF-8\""
      ]
     },
     "metadata": {},
     "output_type": "display_data"
    }
   ],
   "source": [
    "# Get Currednt Local encoding \n",
    "Sys.getlocale()"
   ]
  },
  {
   "cell_type": "code",
   "execution_count": 86,
   "metadata": {},
   "outputs": [
    {
     "data": {
      "text/html": [
       "'C/C/C/C/C/en_US.UTF-8'"
      ],
      "text/latex": [
       "'C/C/C/C/C/en\\_US.UTF-8'"
      ],
      "text/markdown": [
       "'C/C/C/C/C/en_US.UTF-8'"
      ],
      "text/plain": [
       "[1] \"C/C/C/C/C/en_US.UTF-8\""
      ]
     },
     "metadata": {},
     "output_type": "display_data"
    }
   ],
   "source": [
    "# Change the Local Encoding to C/C/C/C/C/en_US.UTF-8\n",
    "Sys.setlocale('LC_ALL','C')"
   ]
  },
  {
   "cell_type": "code",
   "execution_count": 87,
   "metadata": {},
   "outputs": [
    {
     "data": {
      "text/html": [
       "14"
      ],
      "text/latex": [
       "14"
      ],
      "text/markdown": [
       "14"
      ],
      "text/plain": [
       "[1] 14"
      ]
     },
     "metadata": {},
     "output_type": "display_data"
    }
   ],
   "source": [
    "options(error = recover)\n",
    "# Extract the data from each year of women files\n",
    "womenResMat = lapply(womenFiles, extractVariables)\n",
    "\n",
    "#Length of Matrix\n",
    "length(womenResMat)"
   ]
  },
  {
   "cell_type": "code",
   "execution_count": 88,
   "metadata": {},
   "outputs": [
    {
     "data": {
      "text/html": [
       "<dl class=dl-horizontal>\n",
       "\t<dt>1999</dt>\n",
       "\t\t<dd>2356</dd>\n",
       "\t<dt>2000</dt>\n",
       "\t\t<dd>2166</dd>\n",
       "\t<dt>2001</dt>\n",
       "\t\t<dd>2972</dd>\n",
       "\t<dt>2002</dt>\n",
       "\t\t<dd>3334</dd>\n",
       "\t<dt>2003</dt>\n",
       "\t\t<dd>3542</dd>\n",
       "\t<dt>2004</dt>\n",
       "\t\t<dd>3899</dd>\n",
       "\t<dt>2005</dt>\n",
       "\t\t<dd>4333</dd>\n",
       "\t<dt>2006</dt>\n",
       "\t\t<dd>4333</dd>\n",
       "\t<dt>2007</dt>\n",
       "\t\t<dd>5435</dd>\n",
       "\t<dt>2008</dt>\n",
       "\t\t<dd>6397</dd>\n",
       "\t<dt>2009</dt>\n",
       "\t\t<dd>8323</dd>\n",
       "\t<dt>2010</dt>\n",
       "\t\t<dd>8853</dd>\n",
       "\t<dt>2011</dt>\n",
       "\t\t<dd>9030</dd>\n",
       "\t<dt>2012</dt>\n",
       "\t\t<dd>9730</dd>\n",
       "</dl>\n"
      ],
      "text/latex": [
       "\\begin{description*}\n",
       "\\item[1999] 2356\n",
       "\\item[2000] 2166\n",
       "\\item[2001] 2972\n",
       "\\item[2002] 3334\n",
       "\\item[2003] 3542\n",
       "\\item[2004] 3899\n",
       "\\item[2005] 4333\n",
       "\\item[2006] 4333\n",
       "\\item[2007] 5435\n",
       "\\item[2008] 6397\n",
       "\\item[2009] 8323\n",
       "\\item[2010] 8853\n",
       "\\item[2011] 9030\n",
       "\\item[2012] 9730\n",
       "\\end{description*}\n"
      ],
      "text/markdown": [
       "1999\n",
       ":   23562000\n",
       ":   21662001\n",
       ":   29722002\n",
       ":   33342003\n",
       ":   35422004\n",
       ":   38992005\n",
       ":   43332006\n",
       ":   43332007\n",
       ":   54352008\n",
       ":   63972009\n",
       ":   83232010\n",
       ":   88532011\n",
       ":   90302012\n",
       ":   9730\n",
       "\n"
      ],
      "text/plain": [
       "1999 2000 2001 2002 2003 2004 2005 2006 2007 2008 2009 2010 2011 2012 \n",
       "2356 2166 2972 3334 3542 3899 4333 4333 5435 6397 8323 8853 9030 9730 "
      ]
     },
     "metadata": {},
     "output_type": "display_data"
    }
   ],
   "source": [
    "# No of Records for each year\n",
    "sapply(womenResMat, nrow)"
   ]
  },
  {
   "cell_type": "code",
   "execution_count": 89,
   "metadata": {},
   "outputs": [
    {
     "data": {
      "text/html": [
       "<ol class=list-inline>\n",
       "\t<li>26</li>\n",
       "\t<li>29</li>\n",
       "\t<li>30</li>\n",
       "\t<li>26</li>\n",
       "\t<li>29</li>\n",
       "\t<li>29</li>\n",
       "</ol>\n"
      ],
      "text/latex": [
       "\\begin{enumerate*}\n",
       "\\item 26\n",
       "\\item 29\n",
       "\\item 30\n",
       "\\item 26\n",
       "\\item 29\n",
       "\\item 29\n",
       "\\end{enumerate*}\n"
      ],
      "text/markdown": [
       "1. 26\n",
       "2. 29\n",
       "3. 30\n",
       "4. 26\n",
       "5. 29\n",
       "6. 29\n",
       "\n",
       "\n"
      ],
      "text/plain": [
       "[1] 26 29 30 26 29 29"
      ]
     },
     "metadata": {},
     "output_type": "display_data"
    }
   ],
   "source": [
    "#Cast Age as Numeric for 2012 Data\n",
    "age = as.numeric(womenResMat[['2012']][ , 'ag'])\n",
    "\n",
    "#Peak Age\n",
    "head(age)"
   ]
  },
  {
   "cell_type": "code",
   "execution_count": 90,
   "metadata": {},
   "outputs": [
    {
     "name": "stderr",
     "output_type": "stream",
     "text": [
      "Warning message in FUN(X[[i]], ...):\n",
      "\"NAs introduced by coercion\""
     ]
    }
   ],
   "source": [
    "#Cast Age as Numeric for years Data\n",
    "age = sapply(womenResMat,\n",
    "             function(x) as.numeric(x[ , 'ag']))"
   ]
  },
  {
   "cell_type": "markdown",
   "metadata": {},
   "source": [
    "Error \"NAs introduced by coercion\" occurred suggesting that there are many blanks ages in the dataset."
   ]
  },
  {
   "cell_type": "code",
   "execution_count": 91,
   "metadata": {},
   "outputs": [
    {
     "data": {
      "image/png": "[encoded data removed]",
      "text/plain": [
       "plot without title"
      ]
     },
     "metadata": {},
     "output_type": "display_data"
    }
   ],
   "source": [
    "# Draw Box Plot\n",
    "boxplot(age, ylab = \"Age\", xlab = \"Year\")"
   ]
  },
  {
   "cell_type": "markdown",
   "metadata": {},
   "source": [
    "The data from 2003 doesn't look correct. As the Age varies between 0 to 10. Also, 2007 data is rightly skewed requiring further analysis."
   ]
  },
  {
   "cell_type": "code",
   "execution_count": 92,
   "metadata": {},
   "outputs": [
    {
     "data": {
      "text/html": [
       "<ol class=list-inline>\n",
       "\t<li><span style=white-space:pre-wrap>'Place Div/Tot  Num    Name                   Ag Hometown        Net Tim Gun Tim  Pace  S '</span></li>\n",
       "\t<li>'===== ======== ====== ====================== == =============== ======= ======== ===== = '</li>\n",
       "\t<li><span style=white-space:pre-wrap>'    1   1/4069      4 Lidiya Grigoryeva      32 Russia            52:11   52:11#  5:14 ! '</span></li>\n",
       "\t<li><span style=white-space:pre-wrap>'    2   2/4069      6 Alevtina Ivanova       30 Russia            52:39   52:39#  5:16 ! '</span></li>\n",
       "\t<li><span style=white-space:pre-wrap>'    3   3/4069     10 Lidia Simon            32 Romania           55:18   55:18#  5:32 ! '</span></li>\n",
       "\t<li><span style=white-space:pre-wrap>'    4   4/4069      2 Luminita Talpos        33 Romania           55:33   55:33#  5:34 ! '</span></li>\n",
       "</ol>\n"
      ],
      "text/latex": [
       "\\begin{enumerate*}\n",
       "\\item 'Place Div/Tot  Num    Name                   Ag Hometown        Net Tim Gun Tim  Pace  S '\n",
       "\\item '===== ======== ====== ====================== == =============== ======= ======== ===== = '\n",
       "\\item '    1   1/4069      4 Lidiya Grigoryeva      32 Russia            52:11   52:11\\#  5:14 ! '\n",
       "\\item '    2   2/4069      6 Alevtina Ivanova       30 Russia            52:39   52:39\\#  5:16 ! '\n",
       "\\item '    3   3/4069     10 Lidia Simon            32 Romania           55:18   55:18\\#  5:32 ! '\n",
       "\\item '    4   4/4069      2 Luminita Talpos        33 Romania           55:33   55:33\\#  5:34 ! '\n",
       "\\end{enumerate*}\n"
      ],
      "text/markdown": [
       "1. <span style=white-space:pre-wrap>'Place Div/Tot  Num    Name                   Ag Hometown        Net Tim Gun Tim  Pace  S '</span>\n",
       "2. '===== ======== ====== ====================== == =============== ======= ======== ===== = '\n",
       "3. <span style=white-space:pre-wrap>'    1   1/4069      4 Lidiya Grigoryeva      32 Russia            52:11   52:11#  5:14 ! '</span>\n",
       "4. <span style=white-space:pre-wrap>'    2   2/4069      6 Alevtina Ivanova       30 Russia            52:39   52:39#  5:16 ! '</span>\n",
       "5. <span style=white-space:pre-wrap>'    3   3/4069     10 Lidia Simon            32 Romania           55:18   55:18#  5:32 ! '</span>\n",
       "6. <span style=white-space:pre-wrap>'    4   4/4069      2 Luminita Talpos        33 Romania           55:33   55:33#  5:34 ! '</span>\n",
       "\n",
       "\n"
      ],
      "text/plain": [
       "[1] \"Place Div/Tot  Num    Name                   Ag Hometown        Net Tim Gun Tim  Pace  S \"\n",
       "[2] \"===== ======== ====== ====================== == =============== ======= ======== ===== = \"\n",
       "[3] \"    1   1/4069      4 Lidiya Grigoryeva      32 Russia            52:11   52:11#  5:14 ! \"\n",
       "[4] \"    2   2/4069      6 Alevtina Ivanova       30 Russia            52:39   52:39#  5:16 ! \"\n",
       "[5] \"    3   3/4069     10 Lidia Simon            32 Romania           55:18   55:18#  5:32 ! \"\n",
       "[6] \"    4   4/4069      2 Luminita Talpos        33 Romania           55:33   55:33#  5:34 ! \""
      ]
     },
     "metadata": {},
     "output_type": "display_data"
    },
    {
     "data": {
      "text/html": [
       "<ol class=list-inline>\n",
       "\t<li><span style=white-space:pre-wrap>'Place Div /Tot  Num    Name                          Ag Hometown            Gun Tim  Net Tim '</span></li>\n",
       "\t<li><span style=white-space:pre-wrap>'===== ========= ===== ============================= == =================== =======  ======= '</span></li>\n",
       "\t<li><span style=white-space:pre-wrap>'    1    1/2510  6014  Olga Romanova                 22  RUS                  53:43#   53:42 '</span></li>\n",
       "\t<li><span style=white-space:pre-wrap>'    2    2/2510  6004  Asha Gigi                     30  ETH                  53:49#   53:49 '</span></li>\n",
       "\t<li><span style=white-space:pre-wrap>'    3    3/2510  6003  Sylvia Mosqueda               36 Los Angeles CA        53:58#   53:57 '</span></li>\n",
       "\t<li><span style=white-space:pre-wrap>'    4    4/2510  6012  Jackline Torori               24  KEN                  55:00#   54:59 '</span></li>\n",
       "</ol>\n"
      ],
      "text/latex": [
       "\\begin{enumerate*}\n",
       "\\item 'Place Div /Tot  Num    Name                          Ag Hometown            Gun Tim  Net Tim '\n",
       "\\item '===== ========= ===== ============================= == =================== =======  ======= '\n",
       "\\item '    1    1/2510  6014  Olga Romanova                 22  RUS                  53:43\\#   53:42 '\n",
       "\\item '    2    2/2510  6004  Asha Gigi                     30  ETH                  53:49\\#   53:49 '\n",
       "\\item '    3    3/2510  6003  Sylvia Mosqueda               36 Los Angeles CA        53:58\\#   53:57 '\n",
       "\\item '    4    4/2510  6012  Jackline Torori               24  KEN                  55:00\\#   54:59 '\n",
       "\\end{enumerate*}\n"
      ],
      "text/markdown": [
       "1. <span style=white-space:pre-wrap>'Place Div /Tot  Num    Name                          Ag Hometown            Gun Tim  Net Tim '</span>\n",
       "2. <span style=white-space:pre-wrap>'===== ========= ===== ============================= == =================== =======  ======= '</span>\n",
       "3. <span style=white-space:pre-wrap>'    1    1/2510  6014  Olga Romanova                 22  RUS                  53:43#   53:42 '</span>\n",
       "4. <span style=white-space:pre-wrap>'    2    2/2510  6004  Asha Gigi                     30  ETH                  53:49#   53:49 '</span>\n",
       "5. <span style=white-space:pre-wrap>'    3    3/2510  6003  Sylvia Mosqueda               36 Los Angeles CA        53:58#   53:57 '</span>\n",
       "6. <span style=white-space:pre-wrap>'    4    4/2510  6012  Jackline Torori               24  KEN                  55:00#   54:59 '</span>\n",
       "\n",
       "\n"
      ],
      "text/plain": [
       "[1] \"Place Div /Tot  Num    Name                          Ag Hometown            Gun Tim  Net Tim \"\n",
       "[2] \"===== ========= ===== ============================= == =================== =======  ======= \" \n",
       "[3] \"    1    1/2510  6014  Olga Romanova                 22  RUS                  53:43#   53:42 \"\n",
       "[4] \"    2    2/2510  6004  Asha Gigi                     30  ETH                  53:49#   53:49 \"\n",
       "[5] \"    3    3/2510  6003  Sylvia Mosqueda               36 Los Angeles CA        53:58#   53:57 \"\n",
       "[6] \"    4    4/2510  6012  Jackline Torori               24  KEN                  55:00#   54:59 \""
      ]
     },
     "metadata": {},
     "output_type": "display_data"
    }
   ],
   "source": [
    "head(womenFiles[['2007']][1:15])\n",
    "head(womenFiles[['2003']][1:15])"
   ]
  },
  {
   "cell_type": "markdown",
   "metadata": {},
   "source": [
    "Upon closer examination of the data, it is evident that 2007 data has shifted a position left while 2003 data has been shifted to the left. In order to fix this we need blank spaces also. This is done in the below function."
   ]
  },
  {
   "cell_type": "code",
   "execution_count": 93,
   "metadata": {
    "collapsed": true
   },
   "outputs": [],
   "source": [
    "# Take two blanks in selectCols Function\n",
    "selectCols = function(shortColNames, headerRow, searchLocs) \n",
    "{\n",
    "  sapply(shortColNames, function(shortName, headerRow, searchLocs)\n",
    "  {\n",
    "    startPos = regexpr(shortName, headerRow)[[1]]\n",
    "    if (startPos == -1) return( c(NA, NA) )\n",
    "    index = sum(startPos >= searchLocs)\n",
    "    c(searchLocs[index] + 1, searchLocs[index + 1])\n",
    "  }\n",
    "      , headerRow = headerRow, searchLocs = searchLocs )\n",
    "}"
   ]
  },
  {
   "cell_type": "code",
   "execution_count": 94,
   "metadata": {},
   "outputs": [
    {
     "data": {
      "text/html": [
       "14"
      ],
      "text/latex": [
       "14"
      ],
      "text/markdown": [
       "14"
      ],
      "text/plain": [
       "[1] 14"
      ]
     },
     "metadata": {},
     "output_type": "display_data"
    }
   ],
   "source": [
    "#Read the women data again with ne defined function.\n",
    "womenResMat = lapply(womenFiles, extractVariables)\n",
    "\n",
    "#Size of the dataset\n",
    "length(womenResMat)"
   ]
  },
  {
   "cell_type": "code",
   "execution_count": 95,
   "metadata": {},
   "outputs": [
    {
     "name": "stderr",
     "output_type": "stream",
     "text": [
      "Warning message in FUN(X[[i]], ...):\n",
      "\"NAs introduced by coercion\""
     ]
    }
   ],
   "source": [
    "# Make Age Numeric\n",
    "age = sapply(womenResMat,\n",
    "             function(x) as.numeric(x[ , 'ag']))"
   ]
  },
  {
   "cell_type": "code",
   "execution_count": 96,
   "metadata": {},
   "outputs": [
    {
     "data": {
      "image/png": "[encoded data removed]",
      "text/plain": [
       "plot without title"
      ]
     },
     "metadata": {},
     "output_type": "display_data"
    }
   ],
   "source": [
    "boxplot(age, ylab = \"Age\", xlab = \"Year\")"
   ]
  },
  {
   "cell_type": "markdown",
   "metadata": {},
   "source": [
    "After performing the corrective steps, the distribution of ages looks pretty normal."
   ]
  },
  {
   "cell_type": "code",
   "execution_count": 97,
   "metadata": {},
   "outputs": [
    {
     "data": {
      "text/html": [
       "<dl class=dl-horizontal>\n",
       "\t<dt>1999</dt>\n",
       "\t\t<dd>4</dd>\n",
       "\t<dt>2000</dt>\n",
       "\t\t<dd>0</dd>\n",
       "\t<dt>2001</dt>\n",
       "\t\t<dd>0</dd>\n",
       "\t<dt>2002</dt>\n",
       "\t\t<dd>4</dd>\n",
       "\t<dt>2003</dt>\n",
       "\t\t<dd>0</dd>\n",
       "\t<dt>2004</dt>\n",
       "\t\t<dd>0</dd>\n",
       "\t<dt>2005</dt>\n",
       "\t\t<dd>8</dd>\n",
       "\t<dt>2006</dt>\n",
       "\t\t<dd>8</dd>\n",
       "\t<dt>2007</dt>\n",
       "\t\t<dd>1</dd>\n",
       "\t<dt>2008</dt>\n",
       "\t\t<dd>0</dd>\n",
       "\t<dt>2009</dt>\n",
       "\t\t<dd>2</dd>\n",
       "\t<dt>2010</dt>\n",
       "\t\t<dd>0</dd>\n",
       "\t<dt>2011</dt>\n",
       "\t\t<dd>0</dd>\n",
       "\t<dt>2012</dt>\n",
       "\t\t<dd>0</dd>\n",
       "</dl>\n"
      ],
      "text/latex": [
       "\\begin{description*}\n",
       "\\item[1999] 4\n",
       "\\item[2000] 0\n",
       "\\item[2001] 0\n",
       "\\item[2002] 4\n",
       "\\item[2003] 0\n",
       "\\item[2004] 0\n",
       "\\item[2005] 8\n",
       "\\item[2006] 8\n",
       "\\item[2007] 1\n",
       "\\item[2008] 0\n",
       "\\item[2009] 2\n",
       "\\item[2010] 0\n",
       "\\item[2011] 0\n",
       "\\item[2012] 0\n",
       "\\end{description*}\n"
      ],
      "text/markdown": [
       "1999\n",
       ":   42000\n",
       ":   02001\n",
       ":   02002\n",
       ":   42003\n",
       ":   02004\n",
       ":   02005\n",
       ":   82006\n",
       ":   82007\n",
       ":   12008\n",
       ":   02009\n",
       ":   22010\n",
       ":   02011\n",
       ":   02012\n",
       ":   0\n",
       "\n"
      ],
      "text/plain": [
       "1999 2000 2001 2002 2003 2004 2005 2006 2007 2008 2009 2010 2011 2012 \n",
       "   4    0    0    4    0    0    8    8    1    0    2    0    0    0 "
      ]
     },
     "metadata": {},
     "output_type": "display_data"
    }
   ],
   "source": [
    "# Count Number of NAs in Age for each year Data\n",
    "sapply(age,  function(x) sum(is.na(x)))"
   ]
  },
  {
   "cell_type": "markdown",
   "metadata": {},
   "source": [
    "Majority of NAs have been removed from the dataset. "
   ]
  },
  {
   "cell_type": "code",
   "execution_count": 98,
   "metadata": {},
   "outputs": [
    {
     "data": {
      "text/html": [
       "<dl>\n",
       "\t<dt>$`1999`</dt>\n",
       "\t\t<dd><ol class=list-inline>\n",
       "\t<li>3</li>\n",
       "\t<li>8</li>\n",
       "\t<li>17</li>\n",
       "\t<li>2175</li>\n",
       "</ol>\n",
       "</dd>\n",
       "\t<dt>$`2000`</dt>\n",
       "\t\t<dd></dd>\n",
       "\t<dt>$`2001`</dt>\n",
       "\t\t<dd></dd>\n",
       "\t<dt>$`2002`</dt>\n",
       "\t\t<dd><ol class=list-inline>\n",
       "\t<li>270</li>\n",
       "\t<li>1281</li>\n",
       "\t<li>2184</li>\n",
       "\t<li>3261</li>\n",
       "</ol>\n",
       "</dd>\n",
       "\t<dt>$`2003`</dt>\n",
       "\t\t<dd></dd>\n",
       "\t<dt>$`2004`</dt>\n",
       "\t\t<dd></dd>\n",
       "\t<dt>$`2005`</dt>\n",
       "\t\t<dd><ol class=list-inline>\n",
       "\t<li>151</li>\n",
       "\t<li>159</li>\n",
       "\t<li>742</li>\n",
       "\t<li>1455</li>\n",
       "\t<li>2454</li>\n",
       "\t<li>2496</li>\n",
       "\t<li>3241</li>\n",
       "\t<li>3950</li>\n",
       "</ol>\n",
       "</dd>\n",
       "\t<dt>$`2006`</dt>\n",
       "\t\t<dd><ol class=list-inline>\n",
       "\t<li>151</li>\n",
       "\t<li>159</li>\n",
       "\t<li>742</li>\n",
       "\t<li>1455</li>\n",
       "\t<li>2454</li>\n",
       "\t<li>2496</li>\n",
       "\t<li>3241</li>\n",
       "\t<li>3950</li>\n",
       "</ol>\n",
       "</dd>\n",
       "\t<dt>$`2007`</dt>\n",
       "\t\t<dd>3719</dd>\n",
       "\t<dt>$`2008`</dt>\n",
       "\t\t<dd></dd>\n",
       "\t<dt>$`2009`</dt>\n",
       "\t\t<dd><ol class=list-inline>\n",
       "\t<li>9</li>\n",
       "\t<li>7573</li>\n",
       "</ol>\n",
       "</dd>\n",
       "\t<dt>$`2010`</dt>\n",
       "\t\t<dd></dd>\n",
       "\t<dt>$`2011`</dt>\n",
       "\t\t<dd></dd>\n",
       "\t<dt>$`2012`</dt>\n",
       "\t\t<dd></dd>\n",
       "</dl>\n"
      ],
      "text/latex": [
       "\\begin{description}\n",
       "\\item[\\$`1999`] \\begin{enumerate*}\n",
       "\\item 3\n",
       "\\item 8\n",
       "\\item 17\n",
       "\\item 2175\n",
       "\\end{enumerate*}\n",
       "\n",
       "\\item[\\$`2000`] \n",
       "\\item[\\$`2001`] \n",
       "\\item[\\$`2002`] \\begin{enumerate*}\n",
       "\\item 270\n",
       "\\item 1281\n",
       "\\item 2184\n",
       "\\item 3261\n",
       "\\end{enumerate*}\n",
       "\n",
       "\\item[\\$`2003`] \n",
       "\\item[\\$`2004`] \n",
       "\\item[\\$`2005`] \\begin{enumerate*}\n",
       "\\item 151\n",
       "\\item 159\n",
       "\\item 742\n",
       "\\item 1455\n",
       "\\item 2454\n",
       "\\item 2496\n",
       "\\item 3241\n",
       "\\item 3950\n",
       "\\end{enumerate*}\n",
       "\n",
       "\\item[\\$`2006`] \\begin{enumerate*}\n",
       "\\item 151\n",
       "\\item 159\n",
       "\\item 742\n",
       "\\item 1455\n",
       "\\item 2454\n",
       "\\item 2496\n",
       "\\item 3241\n",
       "\\item 3950\n",
       "\\end{enumerate*}\n",
       "\n",
       "\\item[\\$`2007`] 3719\n",
       "\\item[\\$`2008`] \n",
       "\\item[\\$`2009`] \\begin{enumerate*}\n",
       "\\item 9\n",
       "\\item 7573\n",
       "\\end{enumerate*}\n",
       "\n",
       "\\item[\\$`2010`] \n",
       "\\item[\\$`2011`] \n",
       "\\item[\\$`2012`] \n",
       "\\end{description}\n"
      ],
      "text/markdown": [
       "$`1999`\n",
       ":   1. 3\n",
       "2. 8\n",
       "3. 17\n",
       "4. 2175\n",
       "\n",
       "\n",
       "\n",
       "$`2000`\n",
       ":   \n",
       "$`2001`\n",
       ":   \n",
       "$`2002`\n",
       ":   1. 270\n",
       "2. 1281\n",
       "3. 2184\n",
       "4. 3261\n",
       "\n",
       "\n",
       "\n",
       "$`2003`\n",
       ":   \n",
       "$`2004`\n",
       ":   \n",
       "$`2005`\n",
       ":   1. 151\n",
       "2. 159\n",
       "3. 742\n",
       "4. 1455\n",
       "5. 2454\n",
       "6. 2496\n",
       "7. 3241\n",
       "8. 3950\n",
       "\n",
       "\n",
       "\n",
       "$`2006`\n",
       ":   1. 151\n",
       "2. 159\n",
       "3. 742\n",
       "4. 1455\n",
       "5. 2454\n",
       "6. 2496\n",
       "7. 3241\n",
       "8. 3950\n",
       "\n",
       "\n",
       "\n",
       "$`2007`\n",
       ":   3719\n",
       "$`2008`\n",
       ":   \n",
       "$`2009`\n",
       ":   1. 9\n",
       "2. 7573\n",
       "\n",
       "\n",
       "\n",
       "$`2010`\n",
       ":   \n",
       "$`2011`\n",
       ":   \n",
       "$`2012`\n",
       ":   \n",
       "\n",
       "\n"
      ],
      "text/plain": [
       "$`1999`\n",
       "[1]    3    8   17 2175\n",
       "\n",
       "$`2000`\n",
       "integer(0)\n",
       "\n",
       "$`2001`\n",
       "integer(0)\n",
       "\n",
       "$`2002`\n",
       "[1]  270 1281 2184 3261\n",
       "\n",
       "$`2003`\n",
       "integer(0)\n",
       "\n",
       "$`2004`\n",
       "integer(0)\n",
       "\n",
       "$`2005`\n",
       "[1]  151  159  742 1455 2454 2496 3241 3950\n",
       "\n",
       "$`2006`\n",
       "[1]  151  159  742 1455 2454 2496 3241 3950\n",
       "\n",
       "$`2007`\n",
       "[1] 3719\n",
       "\n",
       "$`2008`\n",
       "integer(0)\n",
       "\n",
       "$`2009`\n",
       "[1]    9 7573\n",
       "\n",
       "$`2010`\n",
       "integer(0)\n",
       "\n",
       "$`2011`\n",
       "integer(0)\n",
       "\n",
       "$`2012`\n",
       "integer(0)\n"
      ]
     },
     "metadata": {},
     "output_type": "display_data"
    }
   ],
   "source": [
    "#Position of NA in the Dataset\n",
    "sapply(age, function(x) which(is.na(x)))\n",
    "    "
   ]
  },
  {
   "cell_type": "code",
   "execution_count": 99,
   "metadata": {},
   "outputs": [
    {
     "data": {
      "text/html": [
       "<span style=white-space:pre-wrap>'    3           Lidiya Grigoryeva        Russia               53:40  5:22 '</span>"
      ],
      "text/latex": [
       "'    3           Lidiya Grigoryeva        Russia               53:40  5:22 '"
      ],
      "text/markdown": [
       "<span style=white-space:pre-wrap>'    3           Lidiya Grigoryeva        Russia               53:40  5:22 '</span>"
      ],
      "text/plain": [
       "[1] \"    3           Lidiya Grigoryeva        Russia               53:40  5:22 \""
      ]
     },
     "metadata": {},
     "output_type": "display_data"
    }
   ],
   "source": [
    "#Lets inspect a record with Age as \"NA\"\n",
    "womenFiles[['1999']][5]"
   ]
  },
  {
   "cell_type": "code",
   "execution_count": 100,
   "metadata": {},
   "outputs": [
    {
     "data": {
      "text/html": [
       "<span style=white-space:pre-wrap>'  151           Ashley Griffin            Washington DC      1:15:04 1:15:21  7:33 '</span>"
      ],
      "text/latex": [
       "'  151           Ashley Griffin            Washington DC      1:15:04 1:15:21  7:33 '"
      ],
      "text/markdown": [
       "<span style=white-space:pre-wrap>'  151           Ashley Griffin            Washington DC      1:15:04 1:15:21  7:33 '</span>"
      ],
      "text/plain": [
       "[1] \"  151           Ashley Griffin            Washington DC      1:15:04 1:15:21  7:33 \""
      ]
     },
     "metadata": {},
     "output_type": "display_data"
    }
   ],
   "source": [
    "#Lets inspect a record with Age as \"NA\"\n",
    "womenFiles[['2005']][153]"
   ]
  },
  {
   "cell_type": "markdown",
   "metadata": {},
   "source": [
    "It is clear from above two records that NAs in Age is due to blank data in the original dataset"
   ]
  },
  {
   "cell_type": "code",
   "execution_count": 101,
   "metadata": {},
   "outputs": [
    {
     "data": {
      "text/html": [
       "<ol class=list-inline>\n",
       "\t<li><span style=white-space:pre-wrap>'  54:02 '</span></li>\n",
       "\t<li><span style=white-space:pre-wrap>'  54:24 '</span></li>\n",
       "\t<li><span style=white-space:pre-wrap>'  54:33 '</span></li>\n",
       "\t<li><span style=white-space:pre-wrap>'  54:36 '</span></li>\n",
       "\t<li><span style=white-space:pre-wrap>'  54:37 '</span></li>\n",
       "</ol>\n"
      ],
      "text/latex": [
       "\\begin{enumerate*}\n",
       "\\item '  54:02 '\n",
       "\\item '  54:24 '\n",
       "\\item '  54:33 '\n",
       "\\item '  54:36 '\n",
       "\\item '  54:37 '\n",
       "\\end{enumerate*}\n"
      ],
      "text/markdown": [
       "1. <span style=white-space:pre-wrap>'  54:02 '</span>\n",
       "2. <span style=white-space:pre-wrap>'  54:24 '</span>\n",
       "3. <span style=white-space:pre-wrap>'  54:33 '</span>\n",
       "4. <span style=white-space:pre-wrap>'  54:36 '</span>\n",
       "5. <span style=white-space:pre-wrap>'  54:37 '</span>\n",
       "\n",
       "\n"
      ],
      "text/plain": [
       "[1] \"  54:02 \" \"  54:24 \" \"  54:33 \" \"  54:36 \" \"  54:37 \""
      ]
     },
     "metadata": {},
     "output_type": "display_data"
    },
    {
     "data": {
      "text/html": [
       "<ol class=list-inline>\n",
       "\t<li>'2:33:11 '</li>\n",
       "\t<li>'2:36:03 '</li>\n",
       "\t<li>'2:36:45 '</li>\n",
       "\t<li>'2:36:54 '</li>\n",
       "\t<li>'2:50:58 '</li>\n",
       "</ol>\n"
      ],
      "text/latex": [
       "\\begin{enumerate*}\n",
       "\\item '2:33:11 '\n",
       "\\item '2:36:03 '\n",
       "\\item '2:36:45 '\n",
       "\\item '2:36:54 '\n",
       "\\item '2:50:58 '\n",
       "\\end{enumerate*}\n"
      ],
      "text/markdown": [
       "1. '2:33:11 '\n",
       "2. '2:36:03 '\n",
       "3. '2:36:45 '\n",
       "4. '2:36:54 '\n",
       "5. '2:50:58 '\n",
       "\n",
       "\n"
      ],
      "text/plain": [
       "[1] \"2:33:11 \" \"2:36:03 \" \"2:36:45 \" \"2:36:54 \" \"2:50:58 \""
      ]
     },
     "metadata": {},
     "output_type": "display_data"
    }
   ],
   "source": [
    "#Extract time from the 2012 Dataset\n",
    "charTime = womenResMat[['2012']][, 'time']\n",
    "\n",
    "# First 5 Rows\n",
    "head(charTime, 5)\n",
    "\n",
    "# First 5 Rows\n",
    "tail(charTime, 5)"
   ]
  },
  {
   "cell_type": "markdown",
   "metadata": {},
   "source": [
    "Some Time Component have Hour portion also."
   ]
  },
  {
   "cell_type": "code",
   "execution_count": 102,
   "metadata": {
    "collapsed": true
   },
   "outputs": [],
   "source": [
    "# Split Time into vector\n",
    "timePieces = strsplit(charTime, \":\")"
   ]
  },
  {
   "cell_type": "code",
   "execution_count": 103,
   "metadata": {},
   "outputs": [
    {
     "data": {
      "text/html": [
       "<ol class=list-inline>\n",
       "\t<li><span style=white-space:pre-wrap>'  54'</span></li>\n",
       "\t<li>'02 '</li>\n",
       "</ol>\n"
      ],
      "text/latex": [
       "\\begin{enumerate*}\n",
       "\\item '  54'\n",
       "\\item '02 '\n",
       "\\end{enumerate*}\n"
      ],
      "text/markdown": [
       "1. <span style=white-space:pre-wrap>'  54'</span>\n",
       "2. '02 '\n",
       "\n",
       "\n"
      ],
      "text/plain": [
       "[1] \"  54\" \"02 \" "
      ]
     },
     "metadata": {},
     "output_type": "display_data"
    }
   ],
   "source": [
    "# Vector Time\n",
    "timePieces[[1]]\n"
   ]
  },
  {
   "cell_type": "code",
   "execution_count": 104,
   "metadata": {},
   "outputs": [
    {
     "data": {
      "text/html": [
       "<ol>\n",
       "\t<li><ol class=list-inline>\n",
       "\t<li>'2'</li>\n",
       "\t<li>'50'</li>\n",
       "\t<li>'58 '</li>\n",
       "</ol>\n",
       "</li>\n",
       "</ol>\n"
      ],
      "text/latex": [
       "\\begin{enumerate}\n",
       "\\item \\begin{enumerate*}\n",
       "\\item '2'\n",
       "\\item '50'\n",
       "\\item '58 '\n",
       "\\end{enumerate*}\n",
       "\n",
       "\\end{enumerate}\n"
      ],
      "text/markdown": [
       "1. 1. '2'\n",
       "2. '50'\n",
       "3. '58 '\n",
       "\n",
       "\n",
       "\n",
       "\n",
       "\n"
      ],
      "text/plain": [
       "[[1]]\n",
       "[1] \"2\"   \"50\"  \"58 \"\n"
      ]
     },
     "metadata": {},
     "output_type": "display_data"
    }
   ],
   "source": [
    "# Last Record Time\n",
    "tail(timePieces, 1)"
   ]
  },
  {
   "cell_type": "code",
   "execution_count": 105,
   "metadata": {
    "collapsed": true
   },
   "outputs": [],
   "source": [
    "# Cast time vector into Numeric\n",
    "timePieces = sapply(timePieces, as.numeric)"
   ]
  },
  {
   "cell_type": "code",
   "execution_count": 106,
   "metadata": {},
   "outputs": [],
   "source": [
    "#Convert Time into Minutes so that data will be consistent \n",
    "runTime = sapply(timePieces,\n",
    "                 function(x) {\n",
    "                   if (length(x) == 2) x[1] + x[2]/60\n",
    "                   else 60*x[1] + x[2] + x[3]/60\n",
    "                 })"
   ]
  },
  {
   "cell_type": "code",
   "execution_count": 107,
   "metadata": {},
   "outputs": [
    {
     "data": {
      "text/plain": [
       "   Min. 1st Qu.  Median    Mean 3rd Qu.    Max. \n",
       "  54.03   89.08   98.03   99.02  107.90  171.00 "
      ]
     },
     "metadata": {},
     "output_type": "display_data"
    }
   ],
   "source": [
    "# Summary Statistics of 2012 Data for time\n",
    "summary(runTime)\n"
   ]
  },
  {
   "cell_type": "markdown",
   "metadata": {},
   "source": [
    "The Fastest Runner completed the race in 54.03 Minutes while the slowest runner took 171 minutes to complete the race."
   ]
  },
  {
   "cell_type": "code",
   "execution_count": 108,
   "metadata": {
    "collapsed": true
   },
   "outputs": [],
   "source": [
    "# Encapsulate Time Conversion to minutes into Function  \n",
    "convertTime = function(time) {\n",
    "  timePieces = strsplit(time, \":\")\n",
    "  timePieces = sapply(timePieces, as.numeric)\n",
    "  sapply(timePieces, function(x) {\n",
    "                      if (length(x) == 2) x[1] + x[2]/60\n",
    "                      else 60*x[1] + x[2] + x[3]/60\n",
    "                      })\n",
    "}"
   ]
  },
  {
   "cell_type": "code",
   "execution_count": 109,
   "metadata": {
    "collapsed": true
   },
   "outputs": [],
   "source": [
    "# Function to create Dataframe with RunTime, Sex and Year as variable\n",
    "createDF = function(Res, year, sex) {\n",
    "  # Determine which time to use\n",
    "  useTime = if( !is.na(Res[1, 'net']) )\n",
    "    Res[ , 'net']\n",
    "  else if( !is.na(Res[1, 'gun']) )\n",
    "    Res[ , 'gun']\n",
    "  else\n",
    "    Res[ , 'time']\n",
    "  \n",
    "  runTime = convertTime(useTime)\n",
    "  \n",
    "  Results = data.frame(year = rep(year, nrow(Res)),\n",
    "                       sex = rep(sex, nrow(Res)),\n",
    "                       name = Res[ , 'name'],\n",
    "                       home = Res[ , 'home'],\n",
    "                       age = as.numeric(Res[, 'ag']),\n",
    "                       runTime = runTime,\n",
    "                       stringsAsFactors = FALSE)\n",
    "  invisible(Results)\n",
    "}"
   ]
  },
  {
   "cell_type": "code",
   "execution_count": 110,
   "metadata": {},
   "outputs": [
    {
     "name": "stderr",
     "output_type": "stream",
     "text": [
      "Warning message in lapply(X = X, FUN = FUN, ...):\n",
      "\"NAs introduced by coercion\"Warning message in lapply(X = X, FUN = FUN, ...):\n",
      "\"NAs introduced by coercion\"Warning message in lapply(X = X, FUN = FUN, ...):\n",
      "\"NAs introduced by coercion\"Warning message in lapply(X = X, FUN = FUN, ...):\n",
      "\"NAs introduced by coercion\"Warning message in lapply(X = X, FUN = FUN, ...):\n",
      "\"NAs introduced by coercion\"Warning message in lapply(X = X, FUN = FUN, ...):\n",
      "\"NAs introduced by coercion\"Warning message in lapply(X = X, FUN = FUN, ...):\n",
      "\"NAs introduced by coercion\"Warning message in lapply(X = X, FUN = FUN, ...):\n",
      "\"NAs introduced by coercion\"Warning message in lapply(X = X, FUN = FUN, ...):\n",
      "\"NAs introduced by coercion\"Warning message in lapply(X = X, FUN = FUN, ...):\n",
      "\"NAs introduced by coercion\"Warning message in lapply(X = X, FUN = FUN, ...):\n",
      "\"NAs introduced by coercion\"Warning message in lapply(X = X, FUN = FUN, ...):\n",
      "\"NAs introduced by coercion\"Warning message in lapply(X = X, FUN = FUN, ...):\n",
      "\"NAs introduced by coercion\"Warning message in lapply(X = X, FUN = FUN, ...):\n",
      "\"NAs introduced by coercion\"Warning message in lapply(X = X, FUN = FUN, ...):\n",
      "\"NAs introduced by coercion\"Warning message in lapply(X = X, FUN = FUN, ...):\n",
      "\"NAs introduced by coercion\"Warning message in lapply(X = X, FUN = FUN, ...):\n",
      "\"NAs introduced by coercion\"Warning message in lapply(X = X, FUN = FUN, ...):\n",
      "\"NAs introduced by coercion\"Warning message in lapply(X = X, FUN = FUN, ...):\n",
      "\"NAs introduced by coercion\"Warning message in lapply(X = X, FUN = FUN, ...):\n",
      "\"NAs introduced by coercion\"Warning message in lapply(X = X, FUN = FUN, ...):\n",
      "\"NAs introduced by coercion\"Warning message in lapply(X = X, FUN = FUN, ...):\n",
      "\"NAs introduced by coercion\"Warning message in lapply(X = X, FUN = FUN, ...):\n",
      "\"NAs introduced by coercion\"Warning message in lapply(X = X, FUN = FUN, ...):\n",
      "\"NAs introduced by coercion\"Warning message in lapply(X = X, FUN = FUN, ...):\n",
      "\"NAs introduced by coercion\"Warning message in lapply(X = X, FUN = FUN, ...):\n",
      "\"NAs introduced by coercion\"Warning message in lapply(X = X, FUN = FUN, ...):\n",
      "\"NAs introduced by coercion\"Warning message in lapply(X = X, FUN = FUN, ...):\n",
      "\"NAs introduced by coercion\"Warning message in lapply(X = X, FUN = FUN, ...):\n",
      "\"NAs introduced by coercion\"Warning message in lapply(X = X, FUN = FUN, ...):\n",
      "\"NAs introduced by coercion\"Warning message in lapply(X = X, FUN = FUN, ...):\n",
      "\"NAs introduced by coercion\"Warning message in lapply(X = X, FUN = FUN, ...):\n",
      "\"NAs introduced by coercion\"Warning message in lapply(X = X, FUN = FUN, ...):\n",
      "\"NAs introduced by coercion\"Warning message in lapply(X = X, FUN = FUN, ...):\n",
      "\"NAs introduced by coercion\"Warning message in lapply(X = X, FUN = FUN, ...):\n",
      "\"NAs introduced by coercion\"Warning message in lapply(X = X, FUN = FUN, ...):\n",
      "\"NAs introduced by coercion\"Warning message in lapply(X = X, FUN = FUN, ...):\n",
      "\"NAs introduced by coercion\"Warning message in lapply(X = X, FUN = FUN, ...):\n",
      "\"NAs introduced by coercion\"Warning message in lapply(X = X, FUN = FUN, ...):\n",
      "\"NAs introduced by coercion\"Warning message in lapply(X = X, FUN = FUN, ...):\n",
      "\"NAs introduced by coercion\"Warning message in lapply(X = X, FUN = FUN, ...):\n",
      "\"NAs introduced by coercion\"Warning message in lapply(X = X, FUN = FUN, ...):\n",
      "\"NAs introduced by coercion\"Warning message in lapply(X = X, FUN = FUN, ...):\n",
      "\"NAs introduced by coercion\"Warning message in lapply(X = X, FUN = FUN, ...):\n",
      "\"NAs introduced by coercion\"Warning message in lapply(X = X, FUN = FUN, ...):\n",
      "\"NAs introduced by coercion\"Warning message in lapply(X = X, FUN = FUN, ...):\n",
      "\"NAs introduced by coercion\"Warning message in lapply(X = X, FUN = FUN, ...):\n",
      "\"NAs introduced by coercion\"Warning message in lapply(X = X, FUN = FUN, ...):\n",
      "\"NAs introduced by coercion\"Warning message in lapply(X = X, FUN = FUN, ...):\n",
      "\"NAs introduced by coercion\"Warning message in lapply(X = X, FUN = FUN, ...):\n",
      "\"NAs introduced by coercion\"Warning message in lapply(X = X, FUN = FUN, ...):\n",
      "\"NAs introduced by coercion\"Warning message in lapply(X = X, FUN = FUN, ...):\n",
      "\"NAs introduced by coercion\"Warning message in lapply(X = X, FUN = FUN, ...):\n",
      "\"NAs introduced by coercion\"Warning message in data.frame(year = rep(year, nrow(Res)), sex = rep(sex, nrow(Res)), :\n",
      "\"NAs introduced by coercion\"Warning message in lapply(X = X, FUN = FUN, ...):\n",
      "\"NAs introduced by coercion\"Warning message in lapply(X = X, FUN = FUN, ...):\n",
      "\"NAs introduced by coercion\"Warning message in lapply(X = X, FUN = FUN, ...):\n",
      "\"NAs introduced by coercion\"Warning message in lapply(X = X, FUN = FUN, ...):\n",
      "\"NAs introduced by coercion\"Warning message in lapply(X = X, FUN = FUN, ...):\n",
      "\"NAs introduced by coercion\"Warning message in lapply(X = X, FUN = FUN, ...):\n",
      "\"NAs introduced by coercion\"Warning message in lapply(X = X, FUN = FUN, ...):\n",
      "\"NAs introduced by coercion\"Warning message in lapply(X = X, FUN = FUN, ...):\n",
      "\"NAs introduced by coercion\"Warning message in lapply(X = X, FUN = FUN, ...):\n",
      "\"NAs introduced by coercion\"Warning message in lapply(X = X, FUN = FUN, ...):\n",
      "\"NAs introduced by coercion\"Warning message in lapply(X = X, FUN = FUN, ...):\n",
      "\"NAs introduced by coercion\"Warning message in lapply(X = X, FUN = FUN, ...):\n",
      "\"NAs introduced by coercion\"Warning message in lapply(X = X, FUN = FUN, ...):\n",
      "\"NAs introduced by coercion\"Warning message in lapply(X = X, FUN = FUN, ...):\n",
      "\"NAs introduced by coercion\"Warning message in lapply(X = X, FUN = FUN, ...):\n",
      "\"NAs introduced by coercion\"Warning message in lapply(X = X, FUN = FUN, ...):\n",
      "\"NAs introduced by coercion\"Warning message in lapply(X = X, FUN = FUN, ...):\n",
      "\"NAs introduced by coercion\"Warning message in lapply(X = X, FUN = FUN, ...):\n",
      "\"NAs introduced by coercion\"Warning message in lapply(X = X, FUN = FUN, ...):\n",
      "\"NAs introduced by coercion\"Warning message in lapply(X = X, FUN = FUN, ...):\n",
      "\"NAs introduced by coercion\"Warning message in lapply(X = X, FUN = FUN, ...):\n",
      "\"NAs introduced by coercion\"Warning message in lapply(X = X, FUN = FUN, ...):\n",
      "\"NAs introduced by coercion\"Warning message in lapply(X = X, FUN = FUN, ...):\n",
      "\"NAs introduced by coercion\"Warning message in lapply(X = X, FUN = FUN, ...):\n",
      "\"NAs introduced by coercion\"Warning message in lapply(X = X, FUN = FUN, ...):\n",
      "\"NAs introduced by coercion\"Warning message in lapply(X = X, FUN = FUN, ...):\n",
      "\"NAs introduced by coercion\"Warning message in lapply(X = X, FUN = FUN, ...):\n",
      "\"NAs introduced by coercion\"Warning message in lapply(X = X, FUN = FUN, ...):\n",
      "\"NAs introduced by coercion\"Warning message in lapply(X = X, FUN = FUN, ...):\n",
      "\"NAs introduced by coercion\"Warning message in lapply(X = X, FUN = FUN, ...):\n",
      "\"NAs introduced by coercion\"Warning message in lapply(X = X, FUN = FUN, ...):\n",
      "\"NAs introduced by coercion\"Warning message in lapply(X = X, FUN = FUN, ...):\n",
      "\"NAs introduced by coercion\"Warning message in lapply(X = X, FUN = FUN, ...):\n",
      "\"NAs introduced by coercion\"Warning message in lapply(X = X, FUN = FUN, ...):\n",
      "\"NAs introduced by coercion\"Warning message in lapply(X = X, FUN = FUN, ...):\n",
      "\"NAs introduced by coercion\"Warning message in lapply(X = X, FUN = FUN, ...):\n",
      "\"NAs introduced by coercion\"Warning message in lapply(X = X, FUN = FUN, ...):\n",
      "\"NAs introduced by coercion\"Warning message in lapply(X = X, FUN = FUN, ...):\n",
      "\"NAs introduced by coercion\"Warning message in lapply(X = X, FUN = FUN, ...):\n",
      "\"NAs introduced by coercion\"Warning message in lapply(X = X, FUN = FUN, ...):\n",
      "\"NAs introduced by coercion\"Warning message in lapply(X = X, FUN = FUN, ...):\n",
      "\"NAs introduced by coercion\"Warning message in lapply(X = X, FUN = FUN, ...):\n",
      "\"NAs introduced by coercion\"Warning message in lapply(X = X, FUN = FUN, ...):\n",
      "\"NAs introduced by coercion\"Warning message in lapply(X = X, FUN = FUN, ...):\n",
      "\"NAs introduced by coercion\"Warning message in lapply(X = X, FUN = FUN, ...):\n",
      "\"NAs introduced by coercion\"Warning message in lapply(X = X, FUN = FUN, ...):\n",
      "\"NAs introduced by coercion\"Warning message in lapply(X = X, FUN = FUN, ...):\n",
      "\"NAs introduced by coercion\"Warning message in lapply(X = X, FUN = FUN, ...):\n",
      "\"NAs introduced by coercion\"Warning message in lapply(X = X, FUN = FUN, ...):\n",
      "\"NAs introduced by coercion\"Warning message in lapply(X = X, FUN = FUN, ...):\n",
      "\"NAs introduced by coercion\"Warning message in lapply(X = X, FUN = FUN, ...):\n"
     ]
    },
    {
     "name": "stderr",
     "output_type": "stream",
     "text": [
      "\"NAs introduced by coercion\"Warning message in lapply(X = X, FUN = FUN, ...):\n",
      "\"NAs introduced by coercion\"Warning message in lapply(X = X, FUN = FUN, ...):\n",
      "\"NAs introduced by coercion\"Warning message in lapply(X = X, FUN = FUN, ...):\n",
      "\"NAs introduced by coercion\"Warning message in lapply(X = X, FUN = FUN, ...):\n",
      "\"NAs introduced by coercion\"Warning message in lapply(X = X, FUN = FUN, ...):\n",
      "\"NAs introduced by coercion\"Warning message in lapply(X = X, FUN = FUN, ...):\n",
      "\"NAs introduced by coercion\"Warning message in lapply(X = X, FUN = FUN, ...):\n",
      "\"NAs introduced by coercion\"Warning message in lapply(X = X, FUN = FUN, ...):\n",
      "\"NAs introduced by coercion\"Warning message in lapply(X = X, FUN = FUN, ...):\n",
      "\"NAs introduced by coercion\"Warning message in lapply(X = X, FUN = FUN, ...):\n",
      "\"NAs introduced by coercion\"Warning message in lapply(X = X, FUN = FUN, ...):\n",
      "\"NAs introduced by coercion\"Warning message in lapply(X = X, FUN = FUN, ...):\n",
      "\"NAs introduced by coercion\"Warning message in lapply(X = X, FUN = FUN, ...):\n",
      "\"NAs introduced by coercion\"Warning message in lapply(X = X, FUN = FUN, ...):\n",
      "\"NAs introduced by coercion\"Warning message in lapply(X = X, FUN = FUN, ...):\n",
      "\"NAs introduced by coercion\"Warning message in lapply(X = X, FUN = FUN, ...):\n",
      "\"NAs introduced by coercion\"Warning message in lapply(X = X, FUN = FUN, ...):\n",
      "\"NAs introduced by coercion\"Warning message in lapply(X = X, FUN = FUN, ...):\n",
      "\"NAs introduced by coercion\"Warning message in lapply(X = X, FUN = FUN, ...):\n",
      "\"NAs introduced by coercion\"Warning message in lapply(X = X, FUN = FUN, ...):\n",
      "\"NAs introduced by coercion\"Warning message in lapply(X = X, FUN = FUN, ...):\n",
      "\"NAs introduced by coercion\"Warning message in lapply(X = X, FUN = FUN, ...):\n",
      "\"NAs introduced by coercion\"Warning message in lapply(X = X, FUN = FUN, ...):\n",
      "\"NAs introduced by coercion\"Warning message in lapply(X = X, FUN = FUN, ...):\n",
      "\"NAs introduced by coercion\"Warning message in lapply(X = X, FUN = FUN, ...):\n",
      "\"NAs introduced by coercion\"Warning message in lapply(X = X, FUN = FUN, ...):\n",
      "\"NAs introduced by coercion\"Warning message in lapply(X = X, FUN = FUN, ...):\n",
      "\"NAs introduced by coercion\"Warning message in lapply(X = X, FUN = FUN, ...):\n",
      "\"NAs introduced by coercion\"Warning message in lapply(X = X, FUN = FUN, ...):\n",
      "\"NAs introduced by coercion\"Warning message in lapply(X = X, FUN = FUN, ...):\n",
      "\"NAs introduced by coercion\"Warning message in lapply(X = X, FUN = FUN, ...):\n",
      "\"NAs introduced by coercion\"Warning message in lapply(X = X, FUN = FUN, ...):\n",
      "\"NAs introduced by coercion\"Warning message in lapply(X = X, FUN = FUN, ...):\n",
      "\"NAs introduced by coercion\"Warning message in lapply(X = X, FUN = FUN, ...):\n",
      "\"NAs introduced by coercion\"Warning message in lapply(X = X, FUN = FUN, ...):\n",
      "\"NAs introduced by coercion\"Warning message in lapply(X = X, FUN = FUN, ...):\n",
      "\"NAs introduced by coercion\"Warning message in lapply(X = X, FUN = FUN, ...):\n",
      "\"NAs introduced by coercion\"Warning message in lapply(X = X, FUN = FUN, ...):\n",
      "\"NAs introduced by coercion\"Warning message in lapply(X = X, FUN = FUN, ...):\n",
      "\"NAs introduced by coercion\"Warning message in lapply(X = X, FUN = FUN, ...):\n",
      "\"NAs introduced by coercion\"Warning message in lapply(X = X, FUN = FUN, ...):\n",
      "\"NAs introduced by coercion\"Warning message in lapply(X = X, FUN = FUN, ...):\n",
      "\"NAs introduced by coercion\"Warning message in lapply(X = X, FUN = FUN, ...):\n",
      "\"NAs introduced by coercion\"Warning message in lapply(X = X, FUN = FUN, ...):\n",
      "\"NAs introduced by coercion\"Warning message in lapply(X = X, FUN = FUN, ...):\n",
      "\"NAs introduced by coercion\"Warning message in lapply(X = X, FUN = FUN, ...):\n",
      "\"NAs introduced by coercion\"Warning message in lapply(X = X, FUN = FUN, ...):\n",
      "\"NAs introduced by coercion\"Warning message in lapply(X = X, FUN = FUN, ...):\n",
      "\"NAs introduced by coercion\"Warning message in lapply(X = X, FUN = FUN, ...):\n",
      "\"NAs introduced by coercion\"Warning message in lapply(X = X, FUN = FUN, ...):\n",
      "\"NAs introduced by coercion\"Warning message in lapply(X = X, FUN = FUN, ...):\n",
      "\"NAs introduced by coercion\"Warning message in lapply(X = X, FUN = FUN, ...):\n",
      "\"NAs introduced by coercion\"Warning message in lapply(X = X, FUN = FUN, ...):\n",
      "\"NAs introduced by coercion\"Warning message in lapply(X = X, FUN = FUN, ...):\n",
      "\"NAs introduced by coercion\"Warning message in lapply(X = X, FUN = FUN, ...):\n",
      "\"NAs introduced by coercion\"Warning message in lapply(X = X, FUN = FUN, ...):\n",
      "\"NAs introduced by coercion\"Warning message in lapply(X = X, FUN = FUN, ...):\n",
      "\"NAs introduced by coercion\"Warning message in lapply(X = X, FUN = FUN, ...):\n",
      "\"NAs introduced by coercion\"Warning message in lapply(X = X, FUN = FUN, ...):\n",
      "\"NAs introduced by coercion\"Warning message in lapply(X = X, FUN = FUN, ...):\n",
      "\"NAs introduced by coercion\"Warning message in lapply(X = X, FUN = FUN, ...):\n",
      "\"NAs introduced by coercion\"Warning message in lapply(X = X, FUN = FUN, ...):\n",
      "\"NAs introduced by coercion\"Warning message in lapply(X = X, FUN = FUN, ...):\n",
      "\"NAs introduced by coercion\"Warning message in lapply(X = X, FUN = FUN, ...):\n",
      "\"NAs introduced by coercion\"Warning message in lapply(X = X, FUN = FUN, ...):\n",
      "\"NAs introduced by coercion\"Warning message in lapply(X = X, FUN = FUN, ...):\n",
      "\"NAs introduced by coercion\"Warning message in lapply(X = X, FUN = FUN, ...):\n",
      "\"NAs introduced by coercion\"Warning message in lapply(X = X, FUN = FUN, ...):\n",
      "\"NAs introduced by coercion\"Warning message in lapply(X = X, FUN = FUN, ...):\n",
      "\"NAs introduced by coercion\"Warning message in lapply(X = X, FUN = FUN, ...):\n",
      "\"NAs introduced by coercion\"Warning message in lapply(X = X, FUN = FUN, ...):\n",
      "\"NAs introduced by coercion\"Warning message in lapply(X = X, FUN = FUN, ...):\n",
      "\"NAs introduced by coercion\"Warning message in lapply(X = X, FUN = FUN, ...):\n",
      "\"NAs introduced by coercion\"Warning message in lapply(X = X, FUN = FUN, ...):\n",
      "\"NAs introduced by coercion\"Warning message in lapply(X = X, FUN = FUN, ...):\n",
      "\"NAs introduced by coercion\"Warning message in lapply(X = X, FUN = FUN, ...):\n",
      "\"NAs introduced by coercion\"Warning message in lapply(X = X, FUN = FUN, ...):\n",
      "\"NAs introduced by coercion\"Warning message in lapply(X = X, FUN = FUN, ...):\n",
      "\"NAs introduced by coercion\"Warning message in lapply(X = X, FUN = FUN, ...):\n",
      "\"NAs introduced by coercion\"Warning message in lapply(X = X, FUN = FUN, ...):\n",
      "\"NAs introduced by coercion\"Warning message in lapply(X = X, FUN = FUN, ...):\n",
      "\"NAs introduced by coercion\"Warning message in lapply(X = X, FUN = FUN, ...):\n",
      "\"NAs introduced by coercion\"Warning message in lapply(X = X, FUN = FUN, ...):\n",
      "\"NAs introduced by coercion\"Warning message in lapply(X = X, FUN = FUN, ...):\n",
      "\"NAs introduced by coercion\"Warning message in lapply(X = X, FUN = FUN, ...):\n",
      "\"NAs introduced by coercion\"Warning message in lapply(X = X, FUN = FUN, ...):\n",
      "\"NAs introduced by coercion\"Warning message in lapply(X = X, FUN = FUN, ...):\n",
      "\"NAs introduced by coercion\"Warning message in lapply(X = X, FUN = FUN, ...):\n",
      "\"NAs introduced by coercion\"Warning message in lapply(X = X, FUN = FUN, ...):\n",
      "\"NAs introduced by coercion\"Warning message in lapply(X = X, FUN = FUN, ...):\n",
      "\"NAs introduced by coercion\"Warning message in lapply(X = X, FUN = FUN, ...):\n",
      "\"NAs introduced by coercion\"Warning message in lapply(X = X, FUN = FUN, ...):\n",
      "\"NAs introduced by coercion\"Warning message in lapply(X = X, FUN = FUN, ...):\n",
      "\"NAs introduced by coercion\"Warning message in lapply(X = X, FUN = FUN, ...):\n",
      "\"NAs introduced by coercion\"Warning message in lapply(X = X, FUN = FUN, ...):\n",
      "\"NAs introduced by coercion\"Warning message in lapply(X = X, FUN = FUN, ...):\n",
      "\"NAs introduced by coercion\"Warning message in lapply(X = X, FUN = FUN, ...):\n",
      "\"NAs introduced by coercion\"Warning message in lapply(X = X, FUN = FUN, ...):\n",
      "\"NAs introduced by coercion\"Warning message in lapply(X = X, FUN = FUN, ...):\n",
      "\"NAs introduced by coercion\"Warning message in lapply(X = X, FUN = FUN, ...):\n",
      "\"NAs introduced by coercion\"Warning message in lapply(X = X, FUN = FUN, ...):\n",
      "\"NAs introduced by coercion\"Warning message in lapply(X = X, FUN = FUN, ...):\n",
      "\"NAs introduced by coercion\"Warning message in lapply(X = X, FUN = FUN, ...):\n",
      "\"NAs introduced by coercion\"Warning message in lapply(X = X, FUN = FUN, ...):\n",
      "\"NAs introduced by coercion\"Warning message in lapply(X = X, FUN = FUN, ...):\n"
     ]
    },
    {
     "name": "stderr",
     "output_type": "stream",
     "text": [
      "\"NAs introduced by coercion\"Warning message in lapply(X = X, FUN = FUN, ...):\n",
      "\"NAs introduced by coercion\"Warning message in lapply(X = X, FUN = FUN, ...):\n",
      "\"NAs introduced by coercion\"Warning message in lapply(X = X, FUN = FUN, ...):\n",
      "\"NAs introduced by coercion\"Warning message in lapply(X = X, FUN = FUN, ...):\n",
      "\"NAs introduced by coercion\"Warning message in lapply(X = X, FUN = FUN, ...):\n",
      "\"NAs introduced by coercion\"Warning message in lapply(X = X, FUN = FUN, ...):\n",
      "\"NAs introduced by coercion\"Warning message in lapply(X = X, FUN = FUN, ...):\n",
      "\"NAs introduced by coercion\"Warning message in lapply(X = X, FUN = FUN, ...):\n",
      "\"NAs introduced by coercion\"Warning message in lapply(X = X, FUN = FUN, ...):\n",
      "\"NAs introduced by coercion\"Warning message in lapply(X = X, FUN = FUN, ...):\n",
      "\"NAs introduced by coercion\"Warning message in lapply(X = X, FUN = FUN, ...):\n",
      "\"NAs introduced by coercion\"Warning message in lapply(X = X, FUN = FUN, ...):\n",
      "\"NAs introduced by coercion\"Warning message in lapply(X = X, FUN = FUN, ...):\n",
      "\"NAs introduced by coercion\"Warning message in lapply(X = X, FUN = FUN, ...):\n",
      "\"NAs introduced by coercion\"Warning message in lapply(X = X, FUN = FUN, ...):\n",
      "\"NAs introduced by coercion\"Warning message in lapply(X = X, FUN = FUN, ...):\n",
      "\"NAs introduced by coercion\"Warning message in lapply(X = X, FUN = FUN, ...):\n",
      "\"NAs introduced by coercion\"Warning message in lapply(X = X, FUN = FUN, ...):\n",
      "\"NAs introduced by coercion\"Warning message in lapply(X = X, FUN = FUN, ...):\n",
      "\"NAs introduced by coercion\"Warning message in lapply(X = X, FUN = FUN, ...):\n",
      "\"NAs introduced by coercion\"Warning message in lapply(X = X, FUN = FUN, ...):\n",
      "\"NAs introduced by coercion\"Warning message in lapply(X = X, FUN = FUN, ...):\n",
      "\"NAs introduced by coercion\"Warning message in lapply(X = X, FUN = FUN, ...):\n",
      "\"NAs introduced by coercion\"Warning message in lapply(X = X, FUN = FUN, ...):\n",
      "\"NAs introduced by coercion\"Warning message in lapply(X = X, FUN = FUN, ...):\n",
      "\"NAs introduced by coercion\"Warning message in lapply(X = X, FUN = FUN, ...):\n",
      "\"NAs introduced by coercion\"Warning message in lapply(X = X, FUN = FUN, ...):\n",
      "\"NAs introduced by coercion\"Warning message in lapply(X = X, FUN = FUN, ...):\n",
      "\"NAs introduced by coercion\"Warning message in lapply(X = X, FUN = FUN, ...):\n",
      "\"NAs introduced by coercion\"Warning message in lapply(X = X, FUN = FUN, ...):\n",
      "\"NAs introduced by coercion\"Warning message in lapply(X = X, FUN = FUN, ...):\n",
      "\"NAs introduced by coercion\"Warning message in lapply(X = X, FUN = FUN, ...):\n",
      "\"NAs introduced by coercion\"Warning message in lapply(X = X, FUN = FUN, ...):\n",
      "\"NAs introduced by coercion\"Warning message in lapply(X = X, FUN = FUN, ...):\n",
      "\"NAs introduced by coercion\"Warning message in lapply(X = X, FUN = FUN, ...):\n",
      "\"NAs introduced by coercion\"Warning message in lapply(X = X, FUN = FUN, ...):\n",
      "\"NAs introduced by coercion\"Warning message in lapply(X = X, FUN = FUN, ...):\n",
      "\"NAs introduced by coercion\"Warning message in lapply(X = X, FUN = FUN, ...):\n",
      "\"NAs introduced by coercion\"Warning message in lapply(X = X, FUN = FUN, ...):\n",
      "\"NAs introduced by coercion\"Warning message in lapply(X = X, FUN = FUN, ...):\n",
      "\"NAs introduced by coercion\"Warning message in lapply(X = X, FUN = FUN, ...):\n",
      "\"NAs introduced by coercion\"Warning message in lapply(X = X, FUN = FUN, ...):\n",
      "\"NAs introduced by coercion\"Warning message in lapply(X = X, FUN = FUN, ...):\n",
      "\"NAs introduced by coercion\"Warning message in lapply(X = X, FUN = FUN, ...):\n",
      "\"NAs introduced by coercion\"Warning message in lapply(X = X, FUN = FUN, ...):\n",
      "\"NAs introduced by coercion\"Warning message in lapply(X = X, FUN = FUN, ...):\n",
      "\"NAs introduced by coercion\"Warning message in lapply(X = X, FUN = FUN, ...):\n",
      "\"NAs introduced by coercion\"Warning message in lapply(X = X, FUN = FUN, ...):\n",
      "\"NAs introduced by coercion\"Warning message in lapply(X = X, FUN = FUN, ...):\n",
      "\"NAs introduced by coercion\"Warning message in lapply(X = X, FUN = FUN, ...):\n",
      "\"NAs introduced by coercion\"Warning message in lapply(X = X, FUN = FUN, ...):\n",
      "\"NAs introduced by coercion\"Warning message in lapply(X = X, FUN = FUN, ...):\n",
      "\"NAs introduced by coercion\"Warning message in lapply(X = X, FUN = FUN, ...):\n",
      "\"NAs introduced by coercion\"Warning message in lapply(X = X, FUN = FUN, ...):\n",
      "\"NAs introduced by coercion\"Warning message in lapply(X = X, FUN = FUN, ...):\n",
      "\"NAs introduced by coercion\"Warning message in lapply(X = X, FUN = FUN, ...):\n",
      "\"NAs introduced by coercion\"Warning message in lapply(X = X, FUN = FUN, ...):\n",
      "\"NAs introduced by coercion\"Warning message in lapply(X = X, FUN = FUN, ...):\n",
      "\"NAs introduced by coercion\"Warning message in lapply(X = X, FUN = FUN, ...):\n",
      "\"NAs introduced by coercion\"Warning message in lapply(X = X, FUN = FUN, ...):\n",
      "\"NAs introduced by coercion\"Warning message in lapply(X = X, FUN = FUN, ...):\n",
      "\"NAs introduced by coercion\"Warning message in lapply(X = X, FUN = FUN, ...):\n",
      "\"NAs introduced by coercion\"Warning message in lapply(X = X, FUN = FUN, ...):\n",
      "\"NAs introduced by coercion\"Warning message in lapply(X = X, FUN = FUN, ...):\n",
      "\"NAs introduced by coercion\"Warning message in lapply(X = X, FUN = FUN, ...):\n",
      "\"NAs introduced by coercion\"Warning message in lapply(X = X, FUN = FUN, ...):\n",
      "\"NAs introduced by coercion\""
     ]
    }
   ],
   "source": [
    "womenDF = mapply(createDF, womenResMat, year = 1999:2012,\n",
    "                 sex = rep(\"W\", 14), SIMPLIFY = FALSE)"
   ]
  },
  {
   "cell_type": "markdown",
   "metadata": {},
   "source": [
    "There were lots of NAs error came in the previous steps. Let's look into the dataset."
   ]
  },
  {
   "cell_type": "code",
   "execution_count": 111,
   "metadata": {},
   "outputs": [
    {
     "data": {
      "text/html": [
       "<dl class=dl-horizontal>\n",
       "\t<dt>1999</dt>\n",
       "\t\t<dd>0</dd>\n",
       "\t<dt>2000</dt>\n",
       "\t\t<dd>0</dd>\n",
       "\t<dt>2001</dt>\n",
       "\t\t<dd>53</dd>\n",
       "\t<dt>2002</dt>\n",
       "\t\t<dd>0</dd>\n",
       "\t<dt>2003</dt>\n",
       "\t\t<dd>0</dd>\n",
       "\t<dt>2004</dt>\n",
       "\t\t<dd>0</dd>\n",
       "\t<dt>2005</dt>\n",
       "\t\t<dd>0</dd>\n",
       "\t<dt>2006</dt>\n",
       "\t\t<dd>0</dd>\n",
       "\t<dt>2007</dt>\n",
       "\t\t<dd>0</dd>\n",
       "\t<dt>2008</dt>\n",
       "\t\t<dd>0</dd>\n",
       "\t<dt>2009</dt>\n",
       "\t\t<dd>115</dd>\n",
       "\t<dt>2010</dt>\n",
       "\t\t<dd>107</dd>\n",
       "\t<dt>2011</dt>\n",
       "\t\t<dd>0</dd>\n",
       "\t<dt>2012</dt>\n",
       "\t\t<dd>0</dd>\n",
       "</dl>\n"
      ],
      "text/latex": [
       "\\begin{description*}\n",
       "\\item[1999] 0\n",
       "\\item[2000] 0\n",
       "\\item[2001] 53\n",
       "\\item[2002] 0\n",
       "\\item[2003] 0\n",
       "\\item[2004] 0\n",
       "\\item[2005] 0\n",
       "\\item[2006] 0\n",
       "\\item[2007] 0\n",
       "\\item[2008] 0\n",
       "\\item[2009] 115\n",
       "\\item[2010] 107\n",
       "\\item[2011] 0\n",
       "\\item[2012] 0\n",
       "\\end{description*}\n"
      ],
      "text/markdown": [
       "1999\n",
       ":   02000\n",
       ":   02001\n",
       ":   532002\n",
       ":   02003\n",
       ":   02004\n",
       ":   02005\n",
       ":   02006\n",
       ":   02007\n",
       ":   02008\n",
       ":   02009\n",
       ":   1152010\n",
       ":   1072011\n",
       ":   02012\n",
       ":   0\n",
       "\n"
      ],
      "text/plain": [
       "1999 2000 2001 2002 2003 2004 2005 2006 2007 2008 2009 2010 2011 2012 \n",
       "   0    0   53    0    0    0    0    0    0    0  115  107    0    0 "
      ]
     },
     "metadata": {},
     "output_type": "display_data"
    }
   ],
   "source": [
    "# Number of NAs for each year\n",
    "sapply(womenDF, function(x) sum(is.na(x$runTime)))"
   ]
  },
  {
   "cell_type": "markdown",
   "metadata": {},
   "source": [
    "Year 2010, 2009 and 2001 has lots of NAs. Upon the examination of file, it appears that time has '#' and '*' at the end that are causing this issue."
   ]
  },
  {
   "cell_type": "code",
   "execution_count": 112,
   "metadata": {
    "collapsed": true
   },
   "outputs": [],
   "source": [
    "# Redefine CreateDF Function with intention to remove '#' and '*' and blank from time field.\n",
    "\n",
    "createDF = function(Res, year, sex) \n",
    "{\n",
    "  # Determine which time to use. Net time was given preference over gun time. Gun Time was given \n",
    "  #  preference over time.\n",
    "    \n",
    "  if ( !is.na(Res[1, 'net']) ) useTime = Res[ , 'net']\n",
    "  else if ( !is.na(Res[1, 'gun']) ) useTime = Res[ , 'gun']\n",
    "  else useTime = Res[ , 'time']\n",
    "  \n",
    "  # Remove # and * and blanks from time\n",
    "  useTime = gsub(\"[#\\\\*[:blank:]]\", \"\", useTime)\n",
    "\n",
    "  \n",
    "  # Drop rows with no time\n",
    "\n",
    "  Res = Res[ useTime != \"\", ]\n",
    "  runTime = convertTime(useTime[ useTime != \"\" ])\n",
    "  \n",
    "  Results = data.frame(year = rep(year, nrow(Res)),\n",
    "                       sex = rep(sex, nrow(Res)),\n",
    "                       name = Res[ , 'name'], home = Res[ , 'home'],\n",
    "                       age = as.numeric(Res[, 'ag']), \n",
    "                       runTime = runTime,\n",
    "                       stringsAsFactors = FALSE)\n",
    "  invisible(Results)\n",
    "}"
   ]
  },
  {
   "cell_type": "code",
   "execution_count": 113,
   "metadata": {},
   "outputs": [
    {
     "name": "stderr",
     "output_type": "stream",
     "text": [
      "Warning message in data.frame(year = rep(year, nrow(Res)), sex = rep(sex, nrow(Res)), :\n",
      "\"NAs introduced by coercion\""
     ]
    }
   ],
   "source": [
    "#Create DataFrame\n",
    "womenDF = mapply(createDF, womenResMat, year = 1999:2012,\n",
    "                 sex = rep(\"W\", 14), SIMPLIFY = FALSE)"
   ]
  },
  {
   "cell_type": "code",
   "execution_count": 114,
   "metadata": {},
   "outputs": [
    {
     "data": {
      "text/html": [
       "<dl class=dl-horizontal>\n",
       "\t<dt>1999</dt>\n",
       "\t\t<dd>0</dd>\n",
       "\t<dt>2000</dt>\n",
       "\t\t<dd>0</dd>\n",
       "\t<dt>2001</dt>\n",
       "\t\t<dd>0</dd>\n",
       "\t<dt>2002</dt>\n",
       "\t\t<dd>0</dd>\n",
       "\t<dt>2003</dt>\n",
       "\t\t<dd>0</dd>\n",
       "\t<dt>2004</dt>\n",
       "\t\t<dd>0</dd>\n",
       "\t<dt>2005</dt>\n",
       "\t\t<dd>0</dd>\n",
       "\t<dt>2006</dt>\n",
       "\t\t<dd>0</dd>\n",
       "\t<dt>2007</dt>\n",
       "\t\t<dd>0</dd>\n",
       "\t<dt>2008</dt>\n",
       "\t\t<dd>0</dd>\n",
       "\t<dt>2009</dt>\n",
       "\t\t<dd>0</dd>\n",
       "\t<dt>2010</dt>\n",
       "\t\t<dd>0</dd>\n",
       "\t<dt>2011</dt>\n",
       "\t\t<dd>0</dd>\n",
       "\t<dt>2012</dt>\n",
       "\t\t<dd>0</dd>\n",
       "</dl>\n"
      ],
      "text/latex": [
       "\\begin{description*}\n",
       "\\item[1999] 0\n",
       "\\item[2000] 0\n",
       "\\item[2001] 0\n",
       "\\item[2002] 0\n",
       "\\item[2003] 0\n",
       "\\item[2004] 0\n",
       "\\item[2005] 0\n",
       "\\item[2006] 0\n",
       "\\item[2007] 0\n",
       "\\item[2008] 0\n",
       "\\item[2009] 0\n",
       "\\item[2010] 0\n",
       "\\item[2011] 0\n",
       "\\item[2012] 0\n",
       "\\end{description*}\n"
      ],
      "text/markdown": [
       "1999\n",
       ":   02000\n",
       ":   02001\n",
       ":   02002\n",
       ":   02003\n",
       ":   02004\n",
       ":   02005\n",
       ":   02006\n",
       ":   02007\n",
       ":   02008\n",
       ":   02009\n",
       ":   02010\n",
       ":   02011\n",
       ":   02012\n",
       ":   0\n",
       "\n"
      ],
      "text/plain": [
       "1999 2000 2001 2002 2003 2004 2005 2006 2007 2008 2009 2010 2011 2012 \n",
       "   0    0    0    0    0    0    0    0    0    0    0    0    0    0 "
      ]
     },
     "metadata": {},
     "output_type": "display_data"
    }
   ],
   "source": [
    "# Let's inspect if there is any NA present in the dataframe\n",
    "sapply(womenDF, function(x) sum(is.na(x$runTime)))"
   ]
  },
  {
   "cell_type": "markdown",
   "metadata": {},
   "source": [
    "All NAs from the dataset disappeared."
   ]
  },
  {
   "cell_type": "code",
   "execution_count": 115,
   "metadata": {},
   "outputs": [
    {
     "data": {
      "text/html": [
       "<dl>\n",
       "\t<dt>$`1999`</dt>\n",
       "\t\t<dd></dd>\n",
       "\t<dt>$`2000`</dt>\n",
       "\t\t<dd></dd>\n",
       "\t<dt>$`2001`</dt>\n",
       "\t\t<dd></dd>\n",
       "\t<dt>$`2002`</dt>\n",
       "\t\t<dd></dd>\n",
       "\t<dt>$`2003`</dt>\n",
       "\t\t<dd></dd>\n",
       "\t<dt>$`2004`</dt>\n",
       "\t\t<dd></dd>\n",
       "\t<dt>$`2005`</dt>\n",
       "\t\t<dd></dd>\n",
       "\t<dt>$`2006`</dt>\n",
       "\t\t<dd></dd>\n",
       "\t<dt>$`2007`</dt>\n",
       "\t\t<dd></dd>\n",
       "\t<dt>$`2008`</dt>\n",
       "\t\t<dd></dd>\n",
       "\t<dt>$`2009`</dt>\n",
       "\t\t<dd></dd>\n",
       "\t<dt>$`2010`</dt>\n",
       "\t\t<dd></dd>\n",
       "\t<dt>$`2011`</dt>\n",
       "\t\t<dd></dd>\n",
       "\t<dt>$`2012`</dt>\n",
       "\t\t<dd></dd>\n",
       "</dl>\n"
      ],
      "text/latex": [
       "\\begin{description}\n",
       "\\item[\\$`1999`] \n",
       "\\item[\\$`2000`] \n",
       "\\item[\\$`2001`] \n",
       "\\item[\\$`2002`] \n",
       "\\item[\\$`2003`] \n",
       "\\item[\\$`2004`] \n",
       "\\item[\\$`2005`] \n",
       "\\item[\\$`2006`] \n",
       "\\item[\\$`2007`] \n",
       "\\item[\\$`2008`] \n",
       "\\item[\\$`2009`] \n",
       "\\item[\\$`2010`] \n",
       "\\item[\\$`2011`] \n",
       "\\item[\\$`2012`] \n",
       "\\end{description}\n"
      ],
      "text/markdown": [
       "$`1999`\n",
       ":   \n",
       "$`2000`\n",
       ":   \n",
       "$`2001`\n",
       ":   \n",
       "$`2002`\n",
       ":   \n",
       "$`2003`\n",
       ":   \n",
       "$`2004`\n",
       ":   \n",
       "$`2005`\n",
       ":   \n",
       "$`2006`\n",
       ":   \n",
       "$`2007`\n",
       ":   \n",
       "$`2008`\n",
       ":   \n",
       "$`2009`\n",
       ":   \n",
       "$`2010`\n",
       ":   \n",
       "$`2011`\n",
       ":   \n",
       "$`2012`\n",
       ":   \n",
       "\n",
       "\n"
      ],
      "text/plain": [
       "$`1999`\n",
       "integer(0)\n",
       "\n",
       "$`2000`\n",
       "integer(0)\n",
       "\n",
       "$`2001`\n",
       "integer(0)\n",
       "\n",
       "$`2002`\n",
       "integer(0)\n",
       "\n",
       "$`2003`\n",
       "integer(0)\n",
       "\n",
       "$`2004`\n",
       "integer(0)\n",
       "\n",
       "$`2005`\n",
       "integer(0)\n",
       "\n",
       "$`2006`\n",
       "integer(0)\n",
       "\n",
       "$`2007`\n",
       "integer(0)\n",
       "\n",
       "$`2008`\n",
       "integer(0)\n",
       "\n",
       "$`2009`\n",
       "integer(0)\n",
       "\n",
       "$`2010`\n",
       "integer(0)\n",
       "\n",
       "$`2011`\n",
       "integer(0)\n",
       "\n",
       "$`2012`\n",
       "integer(0)\n"
      ]
     },
     "metadata": {},
     "output_type": "display_data"
    }
   ],
   "source": [
    "# Position where NA. There is None\n",
    "sapply(womenDF, function(x) which(is.na(x$runTime)))"
   ]
  },
  {
   "cell_type": "code",
   "execution_count": 116,
   "metadata": {
    "collapsed": true
   },
   "outputs": [],
   "source": [
    "# Save the Cleansed dataset cbWomen.rda so that further statistical analysis can be done.\n",
    "cbWomen = do.call(rbind, womenDF)\n",
    "save(cbWomen, file = \"cbWomen.rda\")"
   ]
  },
  {
   "cell_type": "code",
   "execution_count": 117,
   "metadata": {},
   "outputs": [
    {
     "data": {
      "text/html": [
       "<ol class=list-inline>\n",
       "\t<li>74703</li>\n",
       "\t<li>6</li>\n",
       "</ol>\n"
      ],
      "text/latex": [
       "\\begin{enumerate*}\n",
       "\\item 74703\n",
       "\\item 6\n",
       "\\end{enumerate*}\n"
      ],
      "text/markdown": [
       "1. 74703\n",
       "2. 6\n",
       "\n",
       "\n"
      ],
      "text/plain": [
       "[1] 74703     6"
      ]
     },
     "metadata": {},
     "output_type": "display_data"
    },
    {
     "data": {
      "text/plain": [
       "      year          sex                name               home          \n",
       " Min.   :1999   Length:74703       Length:74703       Length:74703      \n",
       " 1st Qu.:2005   Class :character   Class :character   Class :character  \n",
       " Median :2008   Mode  :character   Mode  :character   Mode  :character  \n",
       " Mean   :2007                                                           \n",
       " 3rd Qu.:2011                                                           \n",
       " Max.   :2012                                                           \n",
       "                                                                        \n",
       "      age          runTime      \n",
       " Min.   : 0.0   Min.   : 51.85  \n",
       " 1st Qu.:27.0   1st Qu.: 88.73  \n",
       " Median :32.0   Median : 97.58  \n",
       " Mean   :33.9   Mean   : 98.33  \n",
       " 3rd Qu.:39.0   3rd Qu.:107.07  \n",
       " Max.   :87.0   Max.   :177.52  \n",
       " NA's   :27                     "
      ]
     },
     "metadata": {},
     "output_type": "display_data"
    }
   ],
   "source": [
    "dim(cbWomen)\n",
    "summary(cbWomen)"
   ]
  },
  {
   "cell_type": "markdown",
   "metadata": {},
   "source": [
    "We have now a dataframe containing six columns and 75967 records. Six Columns are year, sex, name, home, age and runTime"
   ]
  },
  {
   "cell_type": "markdown",
   "metadata": {},
   "source": [
    "## 6. Conclusion and Future Work\n",
    "It is clear from this case study that Data cleansing is a heavy duty work, and data scientists have to spend a significant amount of time to collect and cleanse the data. In this case study, the raw data from the cherry blossom website is cleansed and saved into the data frame. Because the data frame is easier to deal with when it comes to building and training models.   \n",
    "On this generated data frame, we can do the further cross-sectional analysis of race performance across ages, sex, etc. Also, we can do a piecewise linear regression to see how an individual athlete performance varies over the years."
   ]
  },
  {
   "cell_type": "markdown",
   "metadata": {},
   "source": [
    "## 7. References"
   ]
  },
  {
   "cell_type": "markdown",
   "metadata": {
    "collapsed": true
   },
   "source": [
    "1. Lang, D. T., & Nolan, D. A. (2015). Data Science in R: A Case Studies Approach to Computational Reasoning and Problem Solving. CRC Press.\n",
    "2. http://www.cherryblossom.org/\n",
    "3. Data Source: From 2DS Karen Clark (https://2ds.datascience.smu.edu/local/files/lib/download.php?id=87215&userid=572)"
   ]
  },
  {
   "cell_type": "code",
   "execution_count": null,
   "metadata": {
    "collapsed": true
   },
   "outputs": [],
   "source": []
  }
 ],
 "metadata": {
  "kernelspec": {
   "display_name": "R",
   "language": "R",
   "name": "ir"
  },
  "language_info": {
   "codemirror_mode": "r",
   "file_extension": ".r",
   "mimetype": "text/x-r-source",
   "name": "R",
   "pygments_lexer": "r",
   "version": "3.3.2"
  },
  "toc": {
   "nav_menu": {},
   "number_sections": false,
   "sideBar": true,
   "skip_h1_title": false,
   "toc_cell": true,
   "toc_position": {},
   "toc_section_display": "block",
   "toc_window_display": true
  }
 },
 "nbformat": 4,
 "nbformat_minor": 2
}
